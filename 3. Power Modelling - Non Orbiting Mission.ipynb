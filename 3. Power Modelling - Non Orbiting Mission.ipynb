{
 "cells": [
  {
   "cell_type": "markdown",
   "id": "dcd25f06",
   "metadata": {},
   "source": [
    "## AERO3000 Space Systems Design\n",
    "\n",
    "Faculty of Science and Engineering &nbsp;&nbsp;&nbsp;|&nbsp;&nbsp;&nbsp; Space Science and Technology Centre &nbsp;&nbsp;|&nbsp;&nbsp; CRICOS Provider Code 00301J\n",
    "\n",
    "# Mission Name Power Budget\n",
    "Modelling the electrical generation, storage and consumption of our space system.\n",
    "\n",
    "### Import Modules"
   ]
  },
  {
   "cell_type": "code",
   "execution_count": null,
   "id": "79090b78",
   "metadata": {},
   "outputs": [],
   "source": [
    "from astropy.time import Time #import astropy so we can use the astropy.Time class to set our epoch times\n",
    "from astropy import units as u #import the astropy units package so we can use real world units conveniently\n",
    "import numpy as np #import our maths library numpy under the alias np"
   ]
  },
  {
   "cell_type": "markdown",
   "id": "beb2b346",
   "metadata": {
    "tags": []
   },
   "source": [
    "### Calculate Your Power Generation Over Time\n",
    "This code assumes you are generating at the begining of the modelled time period.\n",
    "\n",
    "Update this code to model the power generation for your mission.\n",
    "\n",
    "<mark>Not sure if we need this as the operational period is the lunar day -> constantly in the sun</mark>"
   ]
  },
  {
   "cell_type": "code",
   "execution_count": null,
   "id": "53c22263",
   "metadata": {},
   "outputs": [],
   "source": [
    "duration_in_min = 60*15\n",
    "timestep_in_min = 5\n",
    "t = np.arange(0, duration_in_min, timestep_in_min)*u.min\n",
    "print(t)\n",
    "\n",
    "generation_stop = 15*u.min\n",
    "generation_restart = 110*u.min\n",
    "\n",
    "illumination_status_list = [] #empty list\n",
    "\n",
    "for i in range(len(t)):\n",
    "    time = t[i]\n",
    "    if ((generation_stop<=time) & (time<generation_restart)): #panels retracted or not tracking the Sun\n",
    "        panels_illuminated = False\n",
    "    else:\n",
    "        panels_illuminated = True\n",
    "    illumination_status_list.append(panels_illuminated)\n",
    "    \n",
    "in_sunlight_array = np.asarray(illumination_status_list)\n",
    "print(in_sunlight_array)"
   ]
  },
  {
   "cell_type": "markdown",
   "id": "a299810d",
   "metadata": {},
   "source": [
    "### Plot Illumination Status Over Time"
   ]
  },
  {
   "cell_type": "code",
   "execution_count": null,
   "id": "fab18085",
   "metadata": {},
   "outputs": [],
   "source": [
    "# import plotly #import our graphing module plotly\n",
    "import plotly.graph_objects as go\n",
    "\n",
    "fig = go.Figure(data=go.Scatter(x=t, y=in_sunlight_array)) #create a scatter plot from the in_eclipse_theta_array and in_eclipse_array\n",
    "fig.layout.template = \"plotly_dark\" #activate the dark theme, comment out for light theme if you want\n",
    "\n",
    "fig.update_yaxes(autorange=\"reversed\") #flip y axis, comment out to unflip if required\n",
    "\n",
    "fig.update_layout(title=\"Illumination Status Over Time (Simulated Period: {} min)\".format(duration_in_min), #add figure title and axis titles\n",
    "                  xaxis_title=\"t ({})\".format(t.unit),\n",
    "                  yaxis_title=\"In Sunlight\",\n",
    "                  )\n",
    "\n",
    "fig.show() #display figure"
   ]
  },
  {
   "cell_type": "markdown",
   "id": "7f366dc0",
   "metadata": {},
   "source": [
    "### Enter Power Draws for Different Operational Modes"
   ]
  },
  {
   "cell_type": "code",
   "execution_count": null,
   "id": "e808acec",
   "metadata": {},
   "outputs": [],
   "source": [
    "p_idle = 60*u.W #idle\n",
    "p_collecting = 360*u.W #using the arm to collect regolith\n",
    "p_sintering = 750*u.W #heating up the regolith to sinter\n",
    "p_cooling = 65*u.W #cooling down heated regolith\n",
    "p_testing = 195*u.W #compressive test on brick and imaging"
   ]
  },
  {
   "cell_type": "markdown",
   "id": "87638bbb",
   "metadata": {},
   "source": [
    "### Enter the Timing of the Different Modes"
   ]
  },
  {
   "cell_type": "code",
   "execution_count": 18,
   "id": "1f7f2f34",
   "metadata": {},
   "outputs": [],
   "source": [
    "power_consumption = np.ones(t.shape)*u.W #array of p_data_processing, same shape as t\n",
    "collecting_start = 5*u.min\n",
    "collecting_duration = 30*u.min\n",
    "\n",
    "sintering_start = 60*u.min\n",
    "sintering_duration = 5*u.hour\n",
    "\n",
    "cooling_start = 360*u.min\n",
    "cooling_duration = 3*u.hour\n",
    "\n",
    "testing_start = 560*u.min\n",
    "testing_duration = 1*u.hour"
   ]
  },
  {
   "cell_type": "markdown",
   "id": "04347e95",
   "metadata": {},
   "source": [
    "### Calculate Consumption"
   ]
  },
  {
   "cell_type": "code",
   "execution_count": 19,
   "id": "418b80ea",
   "metadata": {},
   "outputs": [],
   "source": [
    "for i in range(len(t)):\n",
    "    time = t[i]\n",
    "    if ((collecting_start<=time) & (time<collecting_start+collecting_duration)): #Collecting\n",
    "        power_consumption[i] = p_collecting\n",
    "    elif ((sintering_start<=time) & (time<sintering_start+sintering_duration)): #Sintering\n",
    "        power_consumption[i] = p_sintering\n",
    "    elif ((cooling_start<=time) & (time<cooling_start+cooling_duration)): #Cooling\n",
    "        power_consumption[i] = p_cooling\n",
    "    elif ((testing_start<=time) & (time<testing_start+testing_duration)): #comms contact\n",
    "        power_consumption[i] = p_testing\n",
    "    else:\n",
    "        power_consumption[i] = p_idle"
   ]
  },
  {
   "cell_type": "markdown",
   "id": "4d1f008b",
   "metadata": {},
   "source": [
    "### Plot the Power Consumption Over the Relevant Time Period"
   ]
  },
  {
   "cell_type": "code",
   "execution_count": 20,
   "id": "781d986d",
   "metadata": {},
   "outputs": [
    {
     "data": {
      "application/vnd.plotly.v1+json": {
       "config": {
        "plotlyServerURL": "https://plot.ly"
       },
       "data": [
        {
         "line": {
          "color": "#EF553B"
         },
         "name": "Power Consumption (W)",
         "showlegend": false,
         "type": "scatter",
         "x": [
          0,
          5,
          10,
          15,
          20,
          25,
          30,
          35,
          40,
          45,
          50,
          55,
          60,
          65,
          70,
          75,
          80,
          85,
          90,
          95,
          100,
          105,
          110,
          115,
          120,
          125,
          130,
          135,
          140,
          145,
          150,
          155,
          160,
          165,
          170,
          175,
          180,
          185,
          190,
          195,
          200,
          205,
          210,
          215,
          220,
          225,
          230,
          235,
          240,
          245,
          250,
          255,
          260,
          265,
          270,
          275,
          280,
          285,
          290,
          295,
          300,
          305,
          310,
          315,
          320,
          325,
          330,
          335,
          340,
          345,
          350,
          355,
          360,
          365,
          370,
          375,
          380,
          385,
          390,
          395,
          400,
          405,
          410,
          415,
          420,
          425,
          430,
          435,
          440,
          445,
          450,
          455,
          460,
          465,
          470,
          475,
          480,
          485,
          490,
          495,
          500,
          505,
          510,
          515,
          520,
          525,
          530,
          535,
          540,
          545,
          550,
          555,
          560,
          565,
          570,
          575,
          580,
          585,
          590,
          595,
          600,
          605,
          610,
          615,
          620,
          625,
          630,
          635,
          640,
          645,
          650,
          655,
          660,
          665,
          670,
          675,
          680,
          685,
          690,
          695,
          700,
          705,
          710,
          715,
          720,
          725,
          730,
          735,
          740,
          745,
          750,
          755,
          760,
          765,
          770,
          775,
          780,
          785,
          790,
          795,
          800,
          805,
          810,
          815,
          820,
          825,
          830,
          835,
          840,
          845,
          850,
          855,
          860,
          865,
          870,
          875,
          880,
          885,
          890,
          895
         ],
         "xaxis": "x",
         "y": [
          60,
          360,
          360,
          360,
          360,
          360,
          360,
          60,
          60,
          60,
          60,
          60,
          750,
          750,
          750,
          750,
          750,
          750,
          750,
          750,
          750,
          750,
          750,
          750,
          750,
          750,
          750,
          750,
          750,
          750,
          750,
          750,
          750,
          750,
          750,
          750,
          750,
          750,
          750,
          750,
          750,
          750,
          750,
          750,
          750,
          750,
          750,
          750,
          750,
          750,
          750,
          750,
          750,
          750,
          750,
          750,
          750,
          750,
          750,
          750,
          750,
          750,
          750,
          750,
          750,
          750,
          750,
          750,
          750,
          750,
          750,
          750,
          65,
          65,
          65,
          65,
          65,
          65,
          65,
          65,
          65,
          65,
          65,
          65,
          65,
          65,
          65,
          65,
          65,
          65,
          65,
          65,
          65,
          65,
          65,
          65,
          65,
          65,
          65,
          65,
          65,
          65,
          65,
          65,
          65,
          65,
          65,
          65,
          60,
          60,
          60,
          60,
          195,
          195,
          195,
          195,
          195,
          195,
          195,
          195,
          195,
          195,
          195,
          195,
          60,
          60,
          60,
          60,
          60,
          60,
          60,
          60,
          60,
          60,
          60,
          60,
          60,
          60,
          60,
          60,
          60,
          60,
          60,
          60,
          60,
          60,
          60,
          60,
          60,
          60,
          60,
          60,
          60,
          60,
          60,
          60,
          60,
          60,
          60,
          60,
          60,
          60,
          60,
          60,
          60,
          60,
          60,
          60,
          60,
          60,
          60,
          60,
          60,
          60,
          60,
          60,
          60,
          60,
          60,
          60
         ],
         "yaxis": "y"
        }
       ],
       "layout": {
        "height": 800,
        "template": {
         "data": {
          "bar": [
           {
            "error_x": {
             "color": "#f2f5fa"
            },
            "error_y": {
             "color": "#f2f5fa"
            },
            "marker": {
             "line": {
              "color": "rgb(17,17,17)",
              "width": 0.5
             },
             "pattern": {
              "fillmode": "overlay",
              "size": 10,
              "solidity": 0.2
             }
            },
            "type": "bar"
           }
          ],
          "barpolar": [
           {
            "marker": {
             "line": {
              "color": "rgb(17,17,17)",
              "width": 0.5
             },
             "pattern": {
              "fillmode": "overlay",
              "size": 10,
              "solidity": 0.2
             }
            },
            "type": "barpolar"
           }
          ],
          "carpet": [
           {
            "aaxis": {
             "endlinecolor": "#A2B1C6",
             "gridcolor": "#506784",
             "linecolor": "#506784",
             "minorgridcolor": "#506784",
             "startlinecolor": "#A2B1C6"
            },
            "baxis": {
             "endlinecolor": "#A2B1C6",
             "gridcolor": "#506784",
             "linecolor": "#506784",
             "minorgridcolor": "#506784",
             "startlinecolor": "#A2B1C6"
            },
            "type": "carpet"
           }
          ],
          "choropleth": [
           {
            "colorbar": {
             "outlinewidth": 0,
             "ticks": ""
            },
            "type": "choropleth"
           }
          ],
          "contour": [
           {
            "colorbar": {
             "outlinewidth": 0,
             "ticks": ""
            },
            "colorscale": [
             [
              0,
              "#0d0887"
             ],
             [
              0.1111111111111111,
              "#46039f"
             ],
             [
              0.2222222222222222,
              "#7201a8"
             ],
             [
              0.3333333333333333,
              "#9c179e"
             ],
             [
              0.4444444444444444,
              "#bd3786"
             ],
             [
              0.5555555555555556,
              "#d8576b"
             ],
             [
              0.6666666666666666,
              "#ed7953"
             ],
             [
              0.7777777777777778,
              "#fb9f3a"
             ],
             [
              0.8888888888888888,
              "#fdca26"
             ],
             [
              1,
              "#f0f921"
             ]
            ],
            "type": "contour"
           }
          ],
          "contourcarpet": [
           {
            "colorbar": {
             "outlinewidth": 0,
             "ticks": ""
            },
            "type": "contourcarpet"
           }
          ],
          "heatmap": [
           {
            "colorbar": {
             "outlinewidth": 0,
             "ticks": ""
            },
            "colorscale": [
             [
              0,
              "#0d0887"
             ],
             [
              0.1111111111111111,
              "#46039f"
             ],
             [
              0.2222222222222222,
              "#7201a8"
             ],
             [
              0.3333333333333333,
              "#9c179e"
             ],
             [
              0.4444444444444444,
              "#bd3786"
             ],
             [
              0.5555555555555556,
              "#d8576b"
             ],
             [
              0.6666666666666666,
              "#ed7953"
             ],
             [
              0.7777777777777778,
              "#fb9f3a"
             ],
             [
              0.8888888888888888,
              "#fdca26"
             ],
             [
              1,
              "#f0f921"
             ]
            ],
            "type": "heatmap"
           }
          ],
          "heatmapgl": [
           {
            "colorbar": {
             "outlinewidth": 0,
             "ticks": ""
            },
            "colorscale": [
             [
              0,
              "#0d0887"
             ],
             [
              0.1111111111111111,
              "#46039f"
             ],
             [
              0.2222222222222222,
              "#7201a8"
             ],
             [
              0.3333333333333333,
              "#9c179e"
             ],
             [
              0.4444444444444444,
              "#bd3786"
             ],
             [
              0.5555555555555556,
              "#d8576b"
             ],
             [
              0.6666666666666666,
              "#ed7953"
             ],
             [
              0.7777777777777778,
              "#fb9f3a"
             ],
             [
              0.8888888888888888,
              "#fdca26"
             ],
             [
              1,
              "#f0f921"
             ]
            ],
            "type": "heatmapgl"
           }
          ],
          "histogram": [
           {
            "marker": {
             "pattern": {
              "fillmode": "overlay",
              "size": 10,
              "solidity": 0.2
             }
            },
            "type": "histogram"
           }
          ],
          "histogram2d": [
           {
            "colorbar": {
             "outlinewidth": 0,
             "ticks": ""
            },
            "colorscale": [
             [
              0,
              "#0d0887"
             ],
             [
              0.1111111111111111,
              "#46039f"
             ],
             [
              0.2222222222222222,
              "#7201a8"
             ],
             [
              0.3333333333333333,
              "#9c179e"
             ],
             [
              0.4444444444444444,
              "#bd3786"
             ],
             [
              0.5555555555555556,
              "#d8576b"
             ],
             [
              0.6666666666666666,
              "#ed7953"
             ],
             [
              0.7777777777777778,
              "#fb9f3a"
             ],
             [
              0.8888888888888888,
              "#fdca26"
             ],
             [
              1,
              "#f0f921"
             ]
            ],
            "type": "histogram2d"
           }
          ],
          "histogram2dcontour": [
           {
            "colorbar": {
             "outlinewidth": 0,
             "ticks": ""
            },
            "colorscale": [
             [
              0,
              "#0d0887"
             ],
             [
              0.1111111111111111,
              "#46039f"
             ],
             [
              0.2222222222222222,
              "#7201a8"
             ],
             [
              0.3333333333333333,
              "#9c179e"
             ],
             [
              0.4444444444444444,
              "#bd3786"
             ],
             [
              0.5555555555555556,
              "#d8576b"
             ],
             [
              0.6666666666666666,
              "#ed7953"
             ],
             [
              0.7777777777777778,
              "#fb9f3a"
             ],
             [
              0.8888888888888888,
              "#fdca26"
             ],
             [
              1,
              "#f0f921"
             ]
            ],
            "type": "histogram2dcontour"
           }
          ],
          "mesh3d": [
           {
            "colorbar": {
             "outlinewidth": 0,
             "ticks": ""
            },
            "type": "mesh3d"
           }
          ],
          "parcoords": [
           {
            "line": {
             "colorbar": {
              "outlinewidth": 0,
              "ticks": ""
             }
            },
            "type": "parcoords"
           }
          ],
          "pie": [
           {
            "automargin": true,
            "type": "pie"
           }
          ],
          "scatter": [
           {
            "marker": {
             "line": {
              "color": "#283442"
             }
            },
            "type": "scatter"
           }
          ],
          "scatter3d": [
           {
            "line": {
             "colorbar": {
              "outlinewidth": 0,
              "ticks": ""
             }
            },
            "marker": {
             "colorbar": {
              "outlinewidth": 0,
              "ticks": ""
             }
            },
            "type": "scatter3d"
           }
          ],
          "scattercarpet": [
           {
            "marker": {
             "colorbar": {
              "outlinewidth": 0,
              "ticks": ""
             }
            },
            "type": "scattercarpet"
           }
          ],
          "scattergeo": [
           {
            "marker": {
             "colorbar": {
              "outlinewidth": 0,
              "ticks": ""
             }
            },
            "type": "scattergeo"
           }
          ],
          "scattergl": [
           {
            "marker": {
             "line": {
              "color": "#283442"
             }
            },
            "type": "scattergl"
           }
          ],
          "scattermapbox": [
           {
            "marker": {
             "colorbar": {
              "outlinewidth": 0,
              "ticks": ""
             }
            },
            "type": "scattermapbox"
           }
          ],
          "scatterpolar": [
           {
            "marker": {
             "colorbar": {
              "outlinewidth": 0,
              "ticks": ""
             }
            },
            "type": "scatterpolar"
           }
          ],
          "scatterpolargl": [
           {
            "marker": {
             "colorbar": {
              "outlinewidth": 0,
              "ticks": ""
             }
            },
            "type": "scatterpolargl"
           }
          ],
          "scatterternary": [
           {
            "marker": {
             "colorbar": {
              "outlinewidth": 0,
              "ticks": ""
             }
            },
            "type": "scatterternary"
           }
          ],
          "surface": [
           {
            "colorbar": {
             "outlinewidth": 0,
             "ticks": ""
            },
            "colorscale": [
             [
              0,
              "#0d0887"
             ],
             [
              0.1111111111111111,
              "#46039f"
             ],
             [
              0.2222222222222222,
              "#7201a8"
             ],
             [
              0.3333333333333333,
              "#9c179e"
             ],
             [
              0.4444444444444444,
              "#bd3786"
             ],
             [
              0.5555555555555556,
              "#d8576b"
             ],
             [
              0.6666666666666666,
              "#ed7953"
             ],
             [
              0.7777777777777778,
              "#fb9f3a"
             ],
             [
              0.8888888888888888,
              "#fdca26"
             ],
             [
              1,
              "#f0f921"
             ]
            ],
            "type": "surface"
           }
          ],
          "table": [
           {
            "cells": {
             "fill": {
              "color": "#506784"
             },
             "line": {
              "color": "rgb(17,17,17)"
             }
            },
            "header": {
             "fill": {
              "color": "#2a3f5f"
             },
             "line": {
              "color": "rgb(17,17,17)"
             }
            },
            "type": "table"
           }
          ]
         },
         "layout": {
          "annotationdefaults": {
           "arrowcolor": "#f2f5fa",
           "arrowhead": 0,
           "arrowwidth": 1
          },
          "autotypenumbers": "strict",
          "coloraxis": {
           "colorbar": {
            "outlinewidth": 0,
            "ticks": ""
           }
          },
          "colorscale": {
           "diverging": [
            [
             0,
             "#8e0152"
            ],
            [
             0.1,
             "#c51b7d"
            ],
            [
             0.2,
             "#de77ae"
            ],
            [
             0.3,
             "#f1b6da"
            ],
            [
             0.4,
             "#fde0ef"
            ],
            [
             0.5,
             "#f7f7f7"
            ],
            [
             0.6,
             "#e6f5d0"
            ],
            [
             0.7,
             "#b8e186"
            ],
            [
             0.8,
             "#7fbc41"
            ],
            [
             0.9,
             "#4d9221"
            ],
            [
             1,
             "#276419"
            ]
           ],
           "sequential": [
            [
             0,
             "#0d0887"
            ],
            [
             0.1111111111111111,
             "#46039f"
            ],
            [
             0.2222222222222222,
             "#7201a8"
            ],
            [
             0.3333333333333333,
             "#9c179e"
            ],
            [
             0.4444444444444444,
             "#bd3786"
            ],
            [
             0.5555555555555556,
             "#d8576b"
            ],
            [
             0.6666666666666666,
             "#ed7953"
            ],
            [
             0.7777777777777778,
             "#fb9f3a"
            ],
            [
             0.8888888888888888,
             "#fdca26"
            ],
            [
             1,
             "#f0f921"
            ]
           ],
           "sequentialminus": [
            [
             0,
             "#0d0887"
            ],
            [
             0.1111111111111111,
             "#46039f"
            ],
            [
             0.2222222222222222,
             "#7201a8"
            ],
            [
             0.3333333333333333,
             "#9c179e"
            ],
            [
             0.4444444444444444,
             "#bd3786"
            ],
            [
             0.5555555555555556,
             "#d8576b"
            ],
            [
             0.6666666666666666,
             "#ed7953"
            ],
            [
             0.7777777777777778,
             "#fb9f3a"
            ],
            [
             0.8888888888888888,
             "#fdca26"
            ],
            [
             1,
             "#f0f921"
            ]
           ]
          },
          "colorway": [
           "#636efa",
           "#EF553B",
           "#00cc96",
           "#ab63fa",
           "#FFA15A",
           "#19d3f3",
           "#FF6692",
           "#B6E880",
           "#FF97FF",
           "#FECB52"
          ],
          "font": {
           "color": "#f2f5fa"
          },
          "geo": {
           "bgcolor": "rgb(17,17,17)",
           "lakecolor": "rgb(17,17,17)",
           "landcolor": "rgb(17,17,17)",
           "showlakes": true,
           "showland": true,
           "subunitcolor": "#506784"
          },
          "hoverlabel": {
           "align": "left"
          },
          "hovermode": "closest",
          "mapbox": {
           "style": "dark"
          },
          "paper_bgcolor": "rgb(17,17,17)",
          "plot_bgcolor": "rgb(17,17,17)",
          "polar": {
           "angularaxis": {
            "gridcolor": "#506784",
            "linecolor": "#506784",
            "ticks": ""
           },
           "bgcolor": "rgb(17,17,17)",
           "radialaxis": {
            "gridcolor": "#506784",
            "linecolor": "#506784",
            "ticks": ""
           }
          },
          "scene": {
           "xaxis": {
            "backgroundcolor": "rgb(17,17,17)",
            "gridcolor": "#506784",
            "gridwidth": 2,
            "linecolor": "#506784",
            "showbackground": true,
            "ticks": "",
            "zerolinecolor": "#C8D4E3"
           },
           "yaxis": {
            "backgroundcolor": "rgb(17,17,17)",
            "gridcolor": "#506784",
            "gridwidth": 2,
            "linecolor": "#506784",
            "showbackground": true,
            "ticks": "",
            "zerolinecolor": "#C8D4E3"
           },
           "zaxis": {
            "backgroundcolor": "rgb(17,17,17)",
            "gridcolor": "#506784",
            "gridwidth": 2,
            "linecolor": "#506784",
            "showbackground": true,
            "ticks": "",
            "zerolinecolor": "#C8D4E3"
           }
          },
          "shapedefaults": {
           "line": {
            "color": "#f2f5fa"
           }
          },
          "sliderdefaults": {
           "bgcolor": "#C8D4E3",
           "bordercolor": "rgb(17,17,17)",
           "borderwidth": 1,
           "tickwidth": 0
          },
          "ternary": {
           "aaxis": {
            "gridcolor": "#506784",
            "linecolor": "#506784",
            "ticks": ""
           },
           "baxis": {
            "gridcolor": "#506784",
            "linecolor": "#506784",
            "ticks": ""
           },
           "bgcolor": "rgb(17,17,17)",
           "caxis": {
            "gridcolor": "#506784",
            "linecolor": "#506784",
            "ticks": ""
           }
          },
          "title": {
           "x": 0.05
          },
          "updatemenudefaults": {
           "bgcolor": "#506784",
           "borderwidth": 0
          },
          "xaxis": {
           "automargin": true,
           "gridcolor": "#283442",
           "linecolor": "#506784",
           "ticks": "",
           "title": {
            "standoff": 15
           },
           "zerolinecolor": "#283442",
           "zerolinewidth": 2
          },
          "yaxis": {
           "automargin": true,
           "gridcolor": "#283442",
           "linecolor": "#506784",
           "ticks": "",
           "title": {
            "standoff": 15
           },
           "zerolinecolor": "#283442",
           "zerolinewidth": 2
          }
         }
        },
        "title": {
         "text": "Power Consumption Over Time (Simulated Period: 900 min)"
        },
        "xaxis": {
         "anchor": "y",
         "domain": [
          0,
          1
         ],
         "range": [
          0,
          900
         ],
         "title": {
          "text": "Time (min)"
         }
        },
        "yaxis": {
         "anchor": "x",
         "domain": [
          0,
          1
         ],
         "rangemode": "tozero",
         "title": {
          "text": "Power Consumption (W)"
         }
        }
       }
      },
      "image/png": "[encoded data removed]",
      "text/html": [
       "<div>                            <div id=\"883176dc-2910-4b24-8aa3-cbba4e705c57\" class=\"plotly-graph-div\" style=\"height:800px; width:100%;\"></div>            <script type=\"text/javascript\">                require([\"plotly\"], function(Plotly) {                    window.PLOTLYENV=window.PLOTLYENV || {};                                    if (document.getElementById(\"883176dc-2910-4b24-8aa3-cbba4e705c57\")) {                    Plotly.newPlot(                        \"883176dc-2910-4b24-8aa3-cbba4e705c57\",                        [{\"line\":{\"color\":\"#EF553B\"},\"name\":\"Power Consumption (W)\",\"showlegend\":false,\"x\":[0.0,5.0,10.0,15.0,20.0,25.0,30.0,35.0,40.0,45.0,50.0,55.0,60.0,65.0,70.0,75.0,80.0,85.0,90.0,95.0,100.0,105.0,110.0,115.0,120.0,125.0,130.0,135.0,140.0,145.0,150.0,155.0,160.0,165.0,170.0,175.0,180.0,185.0,190.0,195.0,200.0,205.0,210.0,215.0,220.0,225.0,230.0,235.0,240.0,245.0,250.0,255.0,260.0,265.0,270.0,275.0,280.0,285.0,290.0,295.0,300.0,305.0,310.0,315.0,320.0,325.0,330.0,335.0,340.0,345.0,350.0,355.0,360.0,365.0,370.0,375.0,380.0,385.0,390.0,395.0,400.0,405.0,410.0,415.0,420.0,425.0,430.0,435.0,440.0,445.0,450.0,455.0,460.0,465.0,470.0,475.0,480.0,485.0,490.0,495.0,500.0,505.0,510.0,515.0,520.0,525.0,530.0,535.0,540.0,545.0,550.0,555.0,560.0,565.0,570.0,575.0,580.0,585.0,590.0,595.0,600.0,605.0,610.0,615.0,620.0,625.0,630.0,635.0,640.0,645.0,650.0,655.0,660.0,665.0,670.0,675.0,680.0,685.0,690.0,695.0,700.0,705.0,710.0,715.0,720.0,725.0,730.0,735.0,740.0,745.0,750.0,755.0,760.0,765.0,770.0,775.0,780.0,785.0,790.0,795.0,800.0,805.0,810.0,815.0,820.0,825.0,830.0,835.0,840.0,845.0,850.0,855.0,860.0,865.0,870.0,875.0,880.0,885.0,890.0,895.0],\"y\":[60.0,360.0,360.0,360.0,360.0,360.0,360.0,60.0,60.0,60.0,60.0,60.0,750.0,750.0,750.0,750.0,750.0,750.0,750.0,750.0,750.0,750.0,750.0,750.0,750.0,750.0,750.0,750.0,750.0,750.0,750.0,750.0,750.0,750.0,750.0,750.0,750.0,750.0,750.0,750.0,750.0,750.0,750.0,750.0,750.0,750.0,750.0,750.0,750.0,750.0,750.0,750.0,750.0,750.0,750.0,750.0,750.0,750.0,750.0,750.0,750.0,750.0,750.0,750.0,750.0,750.0,750.0,750.0,750.0,750.0,750.0,750.0,65.0,65.0,65.0,65.0,65.0,65.0,65.0,65.0,65.0,65.0,65.0,65.0,65.0,65.0,65.0,65.0,65.0,65.0,65.0,65.0,65.0,65.0,65.0,65.0,65.0,65.0,65.0,65.0,65.0,65.0,65.0,65.0,65.0,65.0,65.0,65.0,60.0,60.0,60.0,60.0,195.0,195.0,195.0,195.0,195.0,195.0,195.0,195.0,195.0,195.0,195.0,195.0,60.0,60.0,60.0,60.0,60.0,60.0,60.0,60.0,60.0,60.0,60.0,60.0,60.0,60.0,60.0,60.0,60.0,60.0,60.0,60.0,60.0,60.0,60.0,60.0,60.0,60.0,60.0,60.0,60.0,60.0,60.0,60.0,60.0,60.0,60.0,60.0,60.0,60.0,60.0,60.0,60.0,60.0,60.0,60.0,60.0,60.0,60.0,60.0,60.0,60.0,60.0,60.0,60.0,60.0,60.0,60.0],\"type\":\"scatter\",\"xaxis\":\"x\",\"yaxis\":\"y\"}],                        {\"template\":{\"data\":{\"barpolar\":[{\"marker\":{\"line\":{\"color\":\"rgb(17,17,17)\",\"width\":0.5},\"pattern\":{\"fillmode\":\"overlay\",\"size\":10,\"solidity\":0.2}},\"type\":\"barpolar\"}],\"bar\":[{\"error_x\":{\"color\":\"#f2f5fa\"},\"error_y\":{\"color\":\"#f2f5fa\"},\"marker\":{\"line\":{\"color\":\"rgb(17,17,17)\",\"width\":0.5},\"pattern\":{\"fillmode\":\"overlay\",\"size\":10,\"solidity\":0.2}},\"type\":\"bar\"}],\"carpet\":[{\"aaxis\":{\"endlinecolor\":\"#A2B1C6\",\"gridcolor\":\"#506784\",\"linecolor\":\"#506784\",\"minorgridcolor\":\"#506784\",\"startlinecolor\":\"#A2B1C6\"},\"baxis\":{\"endlinecolor\":\"#A2B1C6\",\"gridcolor\":\"#506784\",\"linecolor\":\"#506784\",\"minorgridcolor\":\"#506784\",\"startlinecolor\":\"#A2B1C6\"},\"type\":\"carpet\"}],\"choropleth\":[{\"colorbar\":{\"outlinewidth\":0,\"ticks\":\"\"},\"type\":\"choropleth\"}],\"contourcarpet\":[{\"colorbar\":{\"outlinewidth\":0,\"ticks\":\"\"},\"type\":\"contourcarpet\"}],\"contour\":[{\"colorbar\":{\"outlinewidth\":0,\"ticks\":\"\"},\"colorscale\":[[0.0,\"#0d0887\"],[0.1111111111111111,\"#46039f\"],[0.2222222222222222,\"#7201a8\"],[0.3333333333333333,\"#9c179e\"],[0.4444444444444444,\"#bd3786\"],[0.5555555555555556,\"#d8576b\"],[0.6666666666666666,\"#ed7953\"],[0.7777777777777778,\"#fb9f3a\"],[0.8888888888888888,\"#fdca26\"],[1.0,\"#f0f921\"]],\"type\":\"contour\"}],\"heatmapgl\":[{\"colorbar\":{\"outlinewidth\":0,\"ticks\":\"\"},\"colorscale\":[[0.0,\"#0d0887\"],[0.1111111111111111,\"#46039f\"],[0.2222222222222222,\"#7201a8\"],[0.3333333333333333,\"#9c179e\"],[0.4444444444444444,\"#bd3786\"],[0.5555555555555556,\"#d8576b\"],[0.6666666666666666,\"#ed7953\"],[0.7777777777777778,\"#fb9f3a\"],[0.8888888888888888,\"#fdca26\"],[1.0,\"#f0f921\"]],\"type\":\"heatmapgl\"}],\"heatmap\":[{\"colorbar\":{\"outlinewidth\":0,\"ticks\":\"\"},\"colorscale\":[[0.0,\"#0d0887\"],[0.1111111111111111,\"#46039f\"],[0.2222222222222222,\"#7201a8\"],[0.3333333333333333,\"#9c179e\"],[0.4444444444444444,\"#bd3786\"],[0.5555555555555556,\"#d8576b\"],[0.6666666666666666,\"#ed7953\"],[0.7777777777777778,\"#fb9f3a\"],[0.8888888888888888,\"#fdca26\"],[1.0,\"#f0f921\"]],\"type\":\"heatmap\"}],\"histogram2dcontour\":[{\"colorbar\":{\"outlinewidth\":0,\"ticks\":\"\"},\"colorscale\":[[0.0,\"#0d0887\"],[0.1111111111111111,\"#46039f\"],[0.2222222222222222,\"#7201a8\"],[0.3333333333333333,\"#9c179e\"],[0.4444444444444444,\"#bd3786\"],[0.5555555555555556,\"#d8576b\"],[0.6666666666666666,\"#ed7953\"],[0.7777777777777778,\"#fb9f3a\"],[0.8888888888888888,\"#fdca26\"],[1.0,\"#f0f921\"]],\"type\":\"histogram2dcontour\"}],\"histogram2d\":[{\"colorbar\":{\"outlinewidth\":0,\"ticks\":\"\"},\"colorscale\":[[0.0,\"#0d0887\"],[0.1111111111111111,\"#46039f\"],[0.2222222222222222,\"#7201a8\"],[0.3333333333333333,\"#9c179e\"],[0.4444444444444444,\"#bd3786\"],[0.5555555555555556,\"#d8576b\"],[0.6666666666666666,\"#ed7953\"],[0.7777777777777778,\"#fb9f3a\"],[0.8888888888888888,\"#fdca26\"],[1.0,\"#f0f921\"]],\"type\":\"histogram2d\"}],\"histogram\":[{\"marker\":{\"pattern\":{\"fillmode\":\"overlay\",\"size\":10,\"solidity\":0.2}},\"type\":\"histogram\"}],\"mesh3d\":[{\"colorbar\":{\"outlinewidth\":0,\"ticks\":\"\"},\"type\":\"mesh3d\"}],\"parcoords\":[{\"line\":{\"colorbar\":{\"outlinewidth\":0,\"ticks\":\"\"}},\"type\":\"parcoords\"}],\"pie\":[{\"automargin\":true,\"type\":\"pie\"}],\"scatter3d\":[{\"line\":{\"colorbar\":{\"outlinewidth\":0,\"ticks\":\"\"}},\"marker\":{\"colorbar\":{\"outlinewidth\":0,\"ticks\":\"\"}},\"type\":\"scatter3d\"}],\"scattercarpet\":[{\"marker\":{\"colorbar\":{\"outlinewidth\":0,\"ticks\":\"\"}},\"type\":\"scattercarpet\"}],\"scattergeo\":[{\"marker\":{\"colorbar\":{\"outlinewidth\":0,\"ticks\":\"\"}},\"type\":\"scattergeo\"}],\"scattergl\":[{\"marker\":{\"line\":{\"color\":\"#283442\"}},\"type\":\"scattergl\"}],\"scattermapbox\":[{\"marker\":{\"colorbar\":{\"outlinewidth\":0,\"ticks\":\"\"}},\"type\":\"scattermapbox\"}],\"scatterpolargl\":[{\"marker\":{\"colorbar\":{\"outlinewidth\":0,\"ticks\":\"\"}},\"type\":\"scatterpolargl\"}],\"scatterpolar\":[{\"marker\":{\"colorbar\":{\"outlinewidth\":0,\"ticks\":\"\"}},\"type\":\"scatterpolar\"}],\"scatter\":[{\"marker\":{\"line\":{\"color\":\"#283442\"}},\"type\":\"scatter\"}],\"scatterternary\":[{\"marker\":{\"colorbar\":{\"outlinewidth\":0,\"ticks\":\"\"}},\"type\":\"scatterternary\"}],\"surface\":[{\"colorbar\":{\"outlinewidth\":0,\"ticks\":\"\"},\"colorscale\":[[0.0,\"#0d0887\"],[0.1111111111111111,\"#46039f\"],[0.2222222222222222,\"#7201a8\"],[0.3333333333333333,\"#9c179e\"],[0.4444444444444444,\"#bd3786\"],[0.5555555555555556,\"#d8576b\"],[0.6666666666666666,\"#ed7953\"],[0.7777777777777778,\"#fb9f3a\"],[0.8888888888888888,\"#fdca26\"],[1.0,\"#f0f921\"]],\"type\":\"surface\"}],\"table\":[{\"cells\":{\"fill\":{\"color\":\"#506784\"},\"line\":{\"color\":\"rgb(17,17,17)\"}},\"header\":{\"fill\":{\"color\":\"#2a3f5f\"},\"line\":{\"color\":\"rgb(17,17,17)\"}},\"type\":\"table\"}]},\"layout\":{\"annotationdefaults\":{\"arrowcolor\":\"#f2f5fa\",\"arrowhead\":0,\"arrowwidth\":1},\"autotypenumbers\":\"strict\",\"coloraxis\":{\"colorbar\":{\"outlinewidth\":0,\"ticks\":\"\"}},\"colorscale\":{\"diverging\":[[0,\"#8e0152\"],[0.1,\"#c51b7d\"],[0.2,\"#de77ae\"],[0.3,\"#f1b6da\"],[0.4,\"#fde0ef\"],[0.5,\"#f7f7f7\"],[0.6,\"#e6f5d0\"],[0.7,\"#b8e186\"],[0.8,\"#7fbc41\"],[0.9,\"#4d9221\"],[1,\"#276419\"]],\"sequential\":[[0.0,\"#0d0887\"],[0.1111111111111111,\"#46039f\"],[0.2222222222222222,\"#7201a8\"],[0.3333333333333333,\"#9c179e\"],[0.4444444444444444,\"#bd3786\"],[0.5555555555555556,\"#d8576b\"],[0.6666666666666666,\"#ed7953\"],[0.7777777777777778,\"#fb9f3a\"],[0.8888888888888888,\"#fdca26\"],[1.0,\"#f0f921\"]],\"sequentialminus\":[[0.0,\"#0d0887\"],[0.1111111111111111,\"#46039f\"],[0.2222222222222222,\"#7201a8\"],[0.3333333333333333,\"#9c179e\"],[0.4444444444444444,\"#bd3786\"],[0.5555555555555556,\"#d8576b\"],[0.6666666666666666,\"#ed7953\"],[0.7777777777777778,\"#fb9f3a\"],[0.8888888888888888,\"#fdca26\"],[1.0,\"#f0f921\"]]},\"colorway\":[\"#636efa\",\"#EF553B\",\"#00cc96\",\"#ab63fa\",\"#FFA15A\",\"#19d3f3\",\"#FF6692\",\"#B6E880\",\"#FF97FF\",\"#FECB52\"],\"font\":{\"color\":\"#f2f5fa\"},\"geo\":{\"bgcolor\":\"rgb(17,17,17)\",\"lakecolor\":\"rgb(17,17,17)\",\"landcolor\":\"rgb(17,17,17)\",\"showlakes\":true,\"showland\":true,\"subunitcolor\":\"#506784\"},\"hoverlabel\":{\"align\":\"left\"},\"hovermode\":\"closest\",\"mapbox\":{\"style\":\"dark\"},\"paper_bgcolor\":\"rgb(17,17,17)\",\"plot_bgcolor\":\"rgb(17,17,17)\",\"polar\":{\"angularaxis\":{\"gridcolor\":\"#506784\",\"linecolor\":\"#506784\",\"ticks\":\"\"},\"bgcolor\":\"rgb(17,17,17)\",\"radialaxis\":{\"gridcolor\":\"#506784\",\"linecolor\":\"#506784\",\"ticks\":\"\"}},\"scene\":{\"xaxis\":{\"backgroundcolor\":\"rgb(17,17,17)\",\"gridcolor\":\"#506784\",\"gridwidth\":2,\"linecolor\":\"#506784\",\"showbackground\":true,\"ticks\":\"\",\"zerolinecolor\":\"#C8D4E3\"},\"yaxis\":{\"backgroundcolor\":\"rgb(17,17,17)\",\"gridcolor\":\"#506784\",\"gridwidth\":2,\"linecolor\":\"#506784\",\"showbackground\":true,\"ticks\":\"\",\"zerolinecolor\":\"#C8D4E3\"},\"zaxis\":{\"backgroundcolor\":\"rgb(17,17,17)\",\"gridcolor\":\"#506784\",\"gridwidth\":2,\"linecolor\":\"#506784\",\"showbackground\":true,\"ticks\":\"\",\"zerolinecolor\":\"#C8D4E3\"}},\"shapedefaults\":{\"line\":{\"color\":\"#f2f5fa\"}},\"sliderdefaults\":{\"bgcolor\":\"#C8D4E3\",\"bordercolor\":\"rgb(17,17,17)\",\"borderwidth\":1,\"tickwidth\":0},\"ternary\":{\"aaxis\":{\"gridcolor\":\"#506784\",\"linecolor\":\"#506784\",\"ticks\":\"\"},\"baxis\":{\"gridcolor\":\"#506784\",\"linecolor\":\"#506784\",\"ticks\":\"\"},\"bgcolor\":\"rgb(17,17,17)\",\"caxis\":{\"gridcolor\":\"#506784\",\"linecolor\":\"#506784\",\"ticks\":\"\"}},\"title\":{\"x\":0.05},\"updatemenudefaults\":{\"bgcolor\":\"#506784\",\"borderwidth\":0},\"xaxis\":{\"automargin\":true,\"gridcolor\":\"#283442\",\"linecolor\":\"#506784\",\"ticks\":\"\",\"title\":{\"standoff\":15},\"zerolinecolor\":\"#283442\",\"zerolinewidth\":2},\"yaxis\":{\"automargin\":true,\"gridcolor\":\"#283442\",\"linecolor\":\"#506784\",\"ticks\":\"\",\"title\":{\"standoff\":15},\"zerolinecolor\":\"#283442\",\"zerolinewidth\":2}}},\"xaxis\":{\"anchor\":\"y\",\"domain\":[0.0,1.0],\"range\":[0,900],\"title\":{\"text\":\"Time (min)\"}},\"yaxis\":{\"anchor\":\"x\",\"domain\":[0.0,1.0],\"title\":{\"text\":\"Power Consumption (W)\"},\"rangemode\":\"tozero\"},\"title\":{\"text\":\"Power Consumption Over Time (Simulated Period: 900 min)\"},\"height\":800},                        {\"responsive\": true}                    ).then(function(){\n",
       "                            \n",
       "var gd = document.getElementById('883176dc-2910-4b24-8aa3-cbba4e705c57');\n",
       "var x = new MutationObserver(function (mutations, observer) {{\n",
       "        var display = window.getComputedStyle(gd).display;\n",
       "        if (!display || display === 'none') {{\n",
       "            console.log([gd, 'removed!']);\n",
       "            Plotly.purge(gd);\n",
       "            observer.disconnect();\n",
       "        }}\n",
       "}});\n",
       "\n",
       "// Listen for the removal of the full notebook cells\n",
       "var notebookContainer = gd.closest('#notebook-container');\n",
       "if (notebookContainer) {{\n",
       "    x.observe(notebookContainer, {childList: true});\n",
       "}}\n",
       "\n",
       "// Listen for the clearing of the current output cell\n",
       "var outputEl = gd.closest('.output');\n",
       "if (outputEl) {{\n",
       "    x.observe(outputEl, {childList: true});\n",
       "}}\n",
       "\n",
       "                        })                };                });            </script>        </div>"
      ]
     },
     "metadata": {},
     "output_type": "display_data"
    }
   ],
   "source": [
    "from plotly.subplots import make_subplots\n",
    "\n",
    "fig = make_subplots(rows=1, cols=1)\n",
    "fig.layout.template = 'plotly_dark' #activate the dark theme, comment out for light theme if you want\n",
    "\n",
    "fig.add_trace(go.Scatter(x=t, y=power_consumption, name=\"Power Consumption ({})\".format(power_consumption.unit), line=dict(color=\"#EF553B\"), showlegend=False), row=1, col=1)\n",
    "\n",
    "fig.update_yaxes(title_text=\"Power Consumption ({})\".format(power_consumption.unit), rangemode=\"tozero\", row=1, col=1)\n",
    "\n",
    "fig.update_xaxes(range=[0, duration_in_min], row=1, col=1)\n",
    "fig.update_xaxes(title_text=\"Time ({})\".format(t.unit), range=[0, duration_in_min], row=1, col=1)\n",
    "\n",
    "fig.update_layout(title_text=\"Power Consumption Over Time (Simulated Period: {} min)\".format(duration_in_min),\n",
    "                  height=800)\n",
    "\n",
    "fig.show() #display figure"
   ]
  },
  {
   "cell_type": "markdown",
   "id": "f29c4c54-342b-499c-a3a3-08e3832f9cce",
   "metadata": {
    "tags": []
   },
   "source": [
    "## Power Generation\n",
    "(This is similar to section 10.6.3 in [chapter 10 \"Electrical Power Systems\" in Fortescue et al. (2011)](https://onlinelibrary-wiley-com.dbgw.lis.curtin.edu.au/doi/pdf/10.1002/9781119971009.ch10) on page 352.)\n",
    "\n",
    "First: calculate your average power consumption:"
   ]
  },
  {
   "cell_type": "code",
   "execution_count": 21,
   "id": "96b64cf9-7b63-4c53-a456-342235231fee",
   "metadata": {},
   "outputs": [
    {
     "name": "stdout",
     "output_type": "stream",
     "text": [
      "Average power consumption: p_avg = 310.0 W\n"
     ]
    }
   ],
   "source": [
    "p_avg = np.average(power_consumption)\n",
    "print(\"Average power consumption: p_avg = {:.1f}\".format(p_avg))"
   ]
  },
  {
   "cell_type": "markdown",
   "id": "9460a38e-8e75-4894-81d5-7f2e4049adf3",
   "metadata": {},
   "source": [
    "To do the next step we will need to know the availability of the generation source (in sunlight fraction for solar power):"
   ]
  },
  {
   "cell_type": "code",
   "execution_count": 22,
   "id": "06bcde4f-e62c-434a-869e-456afbfcad67",
   "metadata": {
    "tags": []
   },
   "outputs": [
    {
     "name": "stdout",
     "output_type": "stream",
     "text": [
      "Availabity of generation : frac_gen_available = 100%\n"
     ]
    }
   ],
   "source": [
    "frac_gen_available = 1 #np.???(in_sunlight_array)\n",
    "print(\"Availabity of generation : frac_gen_available = {:.0%}\".format(frac_gen_available))"
   ]
  },
  {
   "cell_type": "markdown",
   "id": "8614f89d-0e52-4535-815d-35ccd8bc9722",
   "metadata": {},
   "source": [
    "Then make an initial estimate of the required power generation by dividing by the availability of the generation source.\n",
    "\n",
    "Keep in mind that this initial guess doesn't take into account different factors degrading the generation output such as temperature or radiation dose effects (damage) over time or inefficiencies in the system."
   ]
  },
  {
   "cell_type": "code",
   "execution_count": 23,
   "id": "f16af3a7-3354-4bc0-80e2-4a4433da3908",
   "metadata": {
    "tags": []
   },
   "outputs": [
    {
     "name": "stdout",
     "output_type": "stream",
     "text": [
      "Initial estimate of power generation capacity : p_gen_initial_estimate = 310 W\n"
     ]
    }
   ],
   "source": [
    "p_gen_initial_estimate = p_avg/frac_gen_available\n",
    "print(\"Initial estimate of power generation capacity : p_gen_initial_estimate = {:.0f}\".format(p_gen_initial_estimate))"
   ]
  },
  {
   "cell_type": "markdown",
   "id": "c6d76f27-e8be-417d-8f32-548311471de1",
   "metadata": {
    "tags": []
   },
   "source": [
    "### Cell Selection\n",
    "Select an [Azure Space](http://www.azurspace.com/index.php/en/) or [Rocket Lab SolAero](https://www.rocketlabusa.com/space-systems/solar/space-solar-cellscics/) **space** solar cell and calculate the **active** cell area required to deliver this power generation capcity.\n",
    "\n",
    "Assume J_S = 1371 W/m$^2$ and that the panels remain normal to the Sun vector at all times.\n",
    "\n",
    "Update the comment to include the cell assembly type and the link to the datasheet.\n",
    "\n",
    "Print the result in centimetres squared."
   ]
  },
  {
   "cell_type": "code",
   "execution_count": 24,
   "id": "0344d104-5050-44ae-a3c1-64d3db50597b",
   "metadata": {
    "tags": []
   },
   "outputs": [
    {
     "name": "stdout",
     "output_type": "stream",
     "text": [
      "Initial estimate cell active area: initial_estimate_cell_area = 7487 cm2\n"
     ]
    }
   ],
   "source": [
    "# Update Solar radiaiton flux if not around 1 AU from the Sun\n",
    "J_S = 1371*u.W/u.m**2 #solar radiation flux from Fortescue et al. (2011) page 359\n",
    "eff_cell = 30.2/100 #<cell assembly type>, source: <cell assembly datasheet>\n",
    "\n",
    "initial_estimate_cell_area = p_gen_initial_estimate/J_S/eff_cell\n",
    "print(\"Initial estimate cell active area: initial_estimate_cell_area = {:.0f}\".format(initial_estimate_cell_area.to(u.cm*u.cm)))"
   ]
  },
  {
   "cell_type": "markdown",
   "id": "a912d870-857e-403a-8623-7624892d04d1",
   "metadata": {},
   "source": [
    "Calculate the number of cell assemblies from the cell area if given in the datasheet. If not provided, you could assume cell area is 30.18 cm$^2$."
   ]
  },
  {
   "cell_type": "code",
   "execution_count": 25,
   "id": "98171d6f-6bc6-4069-8c92-fd7ea65f74f9",
   "metadata": {
    "tags": []
   },
   "outputs": [
    {
     "name": "stdout",
     "output_type": "stream",
     "text": [
      "Initial estimate number of cells: inital_estimate_n_cells = 234\n"
     ]
    }
   ],
   "source": [
    "area_per_cell = 8*4*u.cm**2 #<cell assembly type>\n",
    "\n",
    "#calculate number of cells, rounding up using the np.ceil() funciton\n",
    "inital_estimate_n_cells =  np.ceil((initial_estimate_cell_area/area_per_cell).to(u.dimensionless_unscaled))\n",
    "\n",
    "print(\"Initial estimate number of cells: inital_estimate_n_cells = {:.0f}\".format(inital_estimate_n_cells))"
   ]
  },
  {
   "cell_type": "markdown",
   "id": "5e378ad5-297e-46ca-b399-660c5f29e35b",
   "metadata": {},
   "source": [
    "### Calculate Losses\n",
    "\n",
    "Assume battery charging is 90% efficient.\n",
    "\n",
    "Assume degradation due to temperature rise is approximately 0.2 % per °C above room temperature (assumption is roughly based on [Rocket Lab SolAero ZTJ datasheet](https://www.rocketlabusa.com/assets/Uploads/RL-SolAero-Data-Sheet-ZTJ.pdf)). If you haven't done a thermal balance yet assume your cells are around 70 °C in an Earth orbit (although you should do a thermal balance calculation ASAP).\n",
    "\n",
    "Assume a degradation due to radiation based on [Table 6.7 from Brown (2002) p. 339](https://ebookcentral.proquest.com/lib/curtin/reader.action?docID=3111499&ppg=352) and your mission parameters."
   ]
  },
  {
   "cell_type": "code",
   "execution_count": 26,
   "id": "a84f9e27-701f-4be9-895d-2dade4b198fb",
   "metadata": {
    "tags": []
   },
   "outputs": [],
   "source": [
    "eff_charging = 90/100 #90% efficient solar tracking and cell charging\n",
    "radiation_degradation_loss = 4/100 #<insert mission information>, based on Brown (2002) p. 339\n",
    "temperature_loss = 17/100 #assumption rougly based on figure 6.18 on page 337 of Brown (2002)"
   ]
  },
  {
   "cell_type": "markdown",
   "id": "e3abe611-616d-4f69-8855-8a948697d586",
   "metadata": {},
   "source": [
    "### Determine Cell Area\n",
    "\n",
    "Now pick your actual cell area or number of cells which should be informed by your initial estimates. (It should be larger, however.)\n",
    "\n",
    "If you want, you can just pick you initial estimate for now, and then come back and refine it after the initial run of the model. An iterative approach like this is reasonable."
   ]
  },
  {
   "cell_type": "code",
   "execution_count": 27,
   "id": "2de08735-c801-402d-a4e2-b11d91747b31",
   "metadata": {
    "tags": []
   },
   "outputs": [
    {
     "name": "stdout",
     "output_type": "stream",
     "text": [
      "0.3008 m2\n"
     ]
    }
   ],
   "source": [
    "n_cells = 94\n",
    "cell_area = n_cells * area_per_cell\n",
    "print(cell_area.to(u.m**2))"
   ]
  },
  {
   "cell_type": "markdown",
   "id": "880c9620-4afe-4c63-a031-92cefbcc6da9",
   "metadata": {},
   "source": [
    "### Calculate the Power Generation Over Time\n",
    "\n",
    "Fill in the missing power generation capacity expression accounting for the losses below and then run the code.\n",
    "\n",
    "Note that the expression for efficiencies will be different than the expression for losses."
   ]
  },
  {
   "cell_type": "code",
   "execution_count": 28,
   "id": "d1a73472-10fa-4dd0-8340-3a2a1ebdefc9",
   "metadata": {
    "tags": []
   },
   "outputs": [
    {
     "name": "stdout",
     "output_type": "stream",
     "text": [
      "Power generation with losses: p_gen_capacity = 89.3 W\n"
     ]
    }
   ],
   "source": [
    "# calculate your power generation capacity with losses\n",
    "p_gen_capacity = (J_S*eff_cell*cell_area*(1-radiation_degradation_loss)*(1-temperature_loss)*eff_charging).to(u.W)\n",
    "print(\"Power generation with losses: p_gen_capacity = {:.1f}\".format(p_gen_capacity))"
   ]
  },
  {
   "cell_type": "markdown",
   "id": "f85c60e9-c45b-4986-aa6b-86bf8b56555f",
   "metadata": {},
   "source": [
    "Now calculate your power generation over time array by multiplying the capacity (scalar) times the availability (array)."
   ]
  },
  {
   "cell_type": "code",
   "execution_count": 16,
   "id": "98beef7f-48e4-4f96-88ce-38b266b2d94a",
   "metadata": {
    "tags": []
   },
   "outputs": [],
   "source": [
    "power_generation = p_gen_capacity*frac_gen_available"
   ]
  },
  {
   "cell_type": "markdown",
   "id": "77eba216-d41f-47ca-be53-2163fa4405dd",
   "metadata": {},
   "source": [
    "## Power Modelling of Nominal Operations\n",
    "For now we are going to assume the batteries start empty and you have a very large battery capacity.\n",
    "\n",
    "You should come back and improve these assumptions as you progress the design of your space system's electrical power system.\n",
    "\n",
    "Fill in the missing expression to calculate the next energy storage level (it's a numerical integration of power over time) and then run the code below.\n",
    "\n",
    "Also fill in the missing part of the expression to limit the maximum level of stored energy to the battery pack capacity."
   ]
  },
  {
   "cell_type": "code",
   "execution_count": 17,
   "id": "b5753714-3b33-47e8-ac2e-9d6fd2e2e6cb",
   "metadata": {
    "tags": []
   },
   "outputs": [
    {
     "ename": "SyntaxError",
     "evalue": "invalid syntax (2163949252.py, line 13)",
     "output_type": "error",
     "traceback": [
      "\u001b[0;36m  Cell \u001b[0;32mIn[17], line 13\u001b[0;36m\u001b[0m\n\u001b[0;31m    next_energy_storage_level = energy_stored[i-1]+???\u001b[0m\n\u001b[0m                                                   ^\u001b[0m\n\u001b[0;31mSyntaxError\u001b[0m\u001b[0;31m:\u001b[0m invalid syntax\n"
     ]
    }
   ],
   "source": [
    "e0 = 0*u.W*u.h # initial energy storage level\n",
    "energy_storage_capacity = 1000*u.W*u.h #energy storage limit (battery pack capacity)\n",
    "\n",
    "energy_stored = np.zeros(t.shape)*u.W*u.h #create array of zeroes the same shape as t\n",
    "\n",
    "delta_t = t[1]-t[0]\n",
    "\n",
    "for i in range(len(t)):\n",
    "    time = t[i]\n",
    "    if i==0:\n",
    "        energy_stored[i] = e0\n",
    "    else:\n",
    "        next_energy_storage_level = energy_stored[i-1]+???\n",
    "        if(next_energy_storage_level > ???):\n",
    "            energy_stored[i] = energy_storage_capacity\n",
    "        else:\n",
    "            energy_stored[i] = next_energy_storage_level\n",
    "\n",
    "from plotly.subplots import make_subplots\n",
    "\n",
    "fig = make_subplots(rows=3, cols=1)\n",
    "\n",
    "print(\"Energy stored after one orbit: {:.2f} WH\".format(energy_stored[-1].to(u.W*u.h).value))\n",
    "print(\"Minimum storage state: {:.2f} WH\".format(energy_stored.min().to(u.W*u.h).value))\n",
    "print(\"Maximum storage state: {:.2f} WH\".format(energy_stored.max().to(u.W*u.h).value))\n",
    "\n",
    "\n",
    "fig.layout.template = 'plotly_dark' #activate the dark theme, comment out for light theme if you want\n",
    "\n",
    "fig.add_trace(go.Scatter(x=t, y=power_generation, name=\"Power Generation (W)\", line=dict(color=\"#636EFA\"), showlegend=False), row=1, col=1)\n",
    "fig.add_trace(go.Scatter(x=t, y=power_consumption, name=\"Power Consumption (W)\", line=dict(color=\"#EF553B\"), showlegend=False), row=2, col=1)\n",
    "fig.add_trace(go.Scatter(x=t, y=energy_stored, name=\"Energy Stored (WH)\", line=dict(color=\"#00CC96\"), showlegend=False), row=3, col=1)\n",
    "\n",
    "fig.update_yaxes(title_text=\"Power Generation (W)\", rangemode=\"tozero\", row=1, col=1)\n",
    "fig.update_yaxes(title_text=\"Power Consumption (W)\", rangemode=\"tozero\", row=2, col=1)\n",
    "fig.update_yaxes(title_text=\"Energy Stored (WH)\", rangemode=\"tozero\", row=3, col=1)\n",
    "\n",
    "fig.update_xaxes(range=[0, duration_in_min], row=1, col=1)\n",
    "fig.update_xaxes(range=[0, duration_in_min], row=2, col=1)\n",
    "fig.update_xaxes(title_text=\"Time ({})\".format(t.unit), range=[0, duration_in_min], row=3, col=1)\n",
    "\n",
    "fig.update_layout(title_text=\"Power Generation, Power Consumption and Energy Storage Over Time ({:.2f} min)\".format(duration_in_min),\n",
    "                  height=1000,\n",
    "                  showlegend=True,\n",
    "                  legend=dict(traceorder=\"normal\"),\n",
    "                  barmode=\"stack\")\n",
    "\n",
    "fig.show() #display figure"
   ]
  },
  {
   "cell_type": "markdown",
   "id": "36b0fbf5-5b54-45ec-8d20-e099899bb0cf",
   "metadata": {},
   "source": [
    "### Go Back and Select a Realistic Battery Pack Capacity and Initial Charge Level\n",
    "Also check that you don't run out of power at any point. You may wish to move loads around (in time) if you have high power consumption when generation is not available.\n",
    "\n",
    "Remember, you never what your space system to run out of power."
   ]
  },
  {
   "cell_type": "markdown",
   "id": "e7beeddb-170e-4c75-aa90-9c9103bba077",
   "metadata": {},
   "source": [
    "### Depth of Discharge\n",
    "From the green trace above determine the depth of discharge and record it in the text box below as a percentage."
   ]
  },
  {
   "cell_type": "raw",
   "id": "1c7b6472-43bd-43de-b9e0-c861187bb6d0",
   "metadata": {},
   "source": [
    "DoD: ?? %"
   ]
  },
  {
   "cell_type": "markdown",
   "id": "53e462f6-4e97-4a81-be7f-c1cf12a6dfeb",
   "metadata": {},
   "source": [
    "### Chose a Cell Chemistry\n",
    "Write the chosen chemistry in the text box below."
   ]
  },
  {
   "cell_type": "raw",
   "id": "7e36d886-6fef-4b60-a46f-cd904ef34d28",
   "metadata": {},
   "source": []
  },
  {
   "cell_type": "markdown",
   "id": "47aeb364-faed-46d4-8d80-8b2b9fb3d554",
   "metadata": {},
   "source": [
    "### ~Projected Lifetime with Chosen Chemistry and Depth of Discharge~\n",
    "~Update code for your chemistry and mission.~\n",
    "\n",
    "This step doesn't make sense for missions without repetitive charge and discharge cycles (like a flyby or lander), so it probably doesn't apply.\n",
    "\n",
    "Uncomment (Highlight, then press Ctrl + / ) and update the code below if it does apply to your mission."
   ]
  },
  {
   "cell_type": "code",
   "execution_count": null,
   "id": "fe8bcc00-5e0c-4ea3-933d-1172a023a2be",
   "metadata": {
    "tags": []
   },
   "outputs": [],
   "source": [
    "# # Number of charge-discharge cycles per orbit\n",
    "# charge_cycles_per_orbit = 1\n",
    "# #The cell chemsitry cycle life at the chosen depth of discharge\n",
    "# cell_cycle_life_at_dod = 2000\n",
    "# battery_pack_lifetime = (charge_cycles_per_orbit*cell_cycle_life_at_dod*tau).to(u.yr)\n",
    "# print(\"Battery Pack Lifetime: {:.2}\".format(battery_pack_lifetime))\n",
    "\n",
    "# end_of_life_capacity_ratio = 0.6\n",
    "# eol_remaining_capacity = (energy_storage_capacity*end_of_life_capacity_ratio).to(u.W*u.hr)\n",
    "# print(\"Battery Pack Capacity Remaining at End of Life: {:.0f} WH\".format(eol_remaining_capacity.value))"
   ]
  },
  {
   "cell_type": "markdown",
   "id": "fc8115e7-3fa2-46eb-9974-9b8614b8307f",
   "metadata": {},
   "source": [
    "### Add in a Safety Factor and Print your Panel and Battery Pack Capacity"
   ]
  },
  {
   "cell_type": "code",
   "execution_count": null,
   "id": "ab777637-0532-48aa-8189-6b07512f4e34",
   "metadata": {},
   "outputs": [],
   "source": [
    "#add your code here"
   ]
  },
  {
   "cell_type": "markdown",
   "id": "e38fba27-4bf7-44b8-8aaf-4fd372e60016",
   "metadata": {},
   "source": [
    "### Battery Mass\n",
    "Look up the energy density of your chosen chemistry, and calculate the approximate mass of your battery pack below. Feel free to rely on easily available sources for this, you don't necessarily need to use a high quality source for this step.\n",
    "\n",
    "If you would like to look at some space battery cells, you can if you wish."
   ]
  },
  {
   "cell_type": "raw",
   "id": "47678376-7302-4086-8756-09bd6848a485",
   "metadata": {},
   "source": []
  },
  {
   "cell_type": "markdown",
   "id": "dfaf2895-2e50-44d2-8581-270c7b1f5ddb",
   "metadata": {},
   "source": [
    "## Extension\n",
    "Estimate the mass of your solar arrays. Account for the cells, the structure, and any interface layers or wiring if required.\n",
    "\n",
    "Update your system's mass budget."
   ]
  },
  {
   "cell_type": "markdown",
   "id": "ee0de0fe-989b-449c-abd3-8f5a6e0d5265",
   "metadata": {},
   "source": [
    "# References\n",
    "\n",
    "[Brown, Charles D. 2002. *Elements of Spacecraft Design*. Reston, Virginia, USA: American Institute of Aeronautics and Astronautics.](https://ebookcentral.proquest.com/lib/curtin/detail.action?pq-origsite=primo&docID=3111499)\n",
    "\n",
    "[Fortescue, Peter, Graham Swinerd, and John Stark, eds. 2011. *Spacecraft Systems Engineering*. Chichester, UK: John Wiley & Sons.](https://onlinelibrary.wiley.com/doi/pdf/10.1002/9781119971009)"
   ]
  }
 ],
 "metadata": {
  "autoplay": {
   "autoRun": true,
   "hideCodeCells": false
  },
  "kernelspec": {
   "display_name": "Python 3 (ipykernel)",
   "language": "python",
   "name": "python3"
  },
  "language_info": {
   "codemirror_mode": {
    "name": "ipython",
    "version": 3
   },
   "file_extension": ".py",
   "mimetype": "text/x-python",
   "name": "python",
   "nbconvert_exporter": "python",
   "pygments_lexer": "ipython3",
   "version": "3.12.6"
  }
 },
 "nbformat": 4,
 "nbformat_minor": 5
}
