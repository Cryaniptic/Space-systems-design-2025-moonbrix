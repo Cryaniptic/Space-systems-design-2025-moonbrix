{
 "cells": [
  {
   "cell_type": "markdown",
   "id": "dcd25f06",
   "metadata": {},
   "source": [
    "## AERO3000 Space Systems Design\n",
    "\n",
    "Faculty of Science and Engineering &nbsp;&nbsp;&nbsp;|&nbsp;&nbsp;&nbsp; Space Science and Technology Centre &nbsp;&nbsp;|&nbsp;&nbsp; CRICOS Provider Code 00301J\n",
    "\n",
    "# MoonBrix Power Budget\n",
    "Modelling the electrical generation, storage and consumption of our space system.\n",
    "\n",
    "# Index of important variables\n",
    "1. [Timing of different modes](#enter-the-timing-of-the-different-modes)\n",
    "2. [Solar Availability](#solar-availability)\n",
    "3. [Solar safety factor](#determine-cell-area)\n",
    "4. [Power modelling](#power-modelling-of-nominal-operations)\n",
    "5. [Cell chemistry](#chose-a-cell-chemistry)\n",
    "6. [Battery Mass](#battery-mass)\n",
    "7. [Total Mass](#total-mass)\n",
    "\n",
    "### Import Modules"
   ]
  },
  {
   "cell_type": "code",
   "execution_count": 49,
   "id": "79090b78",
   "metadata": {},
   "outputs": [],
   "source": [
    "from astropy.time import Time #import astropy so we can use the astropy.Time class to set our epoch times\n",
    "from astropy import units as u #import the astropy units package so we can use real world units conveniently\n",
    "import numpy as np #import our maths library numpy under the alias np\n",
    "\n",
    "from openpyxl import Workbook #import the openpyxl library so we can create excel spreadsheets"
   ]
  },
  {
   "cell_type": "markdown",
   "id": "beb2b346",
   "metadata": {
    "tags": []
   },
   "source": [
    "### Calculate Your Power Generation Over Time\n",
    "This code assumes you are generating at the begining of the modelled time period.\n",
    "\n",
    "Update this code to model the power generation for your mission.\n",
    "\n",
    "<mark>Not sure if we need this as the operational period is the lunar day -> constantly in the sun</mark>"
   ]
  },
  {
   "cell_type": "code",
   "execution_count": 50,
   "id": "53c22263",
   "metadata": {},
   "outputs": [
    {
     "name": "stdout",
     "output_type": "stream",
     "text": [
      "[  0.   5.  10.  15.  20.  25.  30.  35.  40.  45.  50.  55.  60.  65.\n",
      "  70.  75.  80.  85.  90.  95. 100. 105. 110. 115. 120. 125. 130. 135.\n",
      " 140. 145. 150. 155. 160. 165. 170. 175. 180. 185. 190. 195. 200. 205.\n",
      " 210. 215. 220. 225. 230. 235. 240. 245. 250. 255. 260. 265. 270. 275.\n",
      " 280. 285. 290. 295. 300. 305. 310. 315. 320. 325. 330. 335. 340. 345.\n",
      " 350. 355. 360. 365. 370. 375. 380. 385. 390. 395. 400. 405. 410. 415.\n",
      " 420. 425. 430. 435. 440. 445. 450. 455. 460. 465. 470. 475. 480. 485.\n",
      " 490. 495. 500. 505. 510. 515. 520. 525. 530. 535. 540. 545. 550. 555.\n",
      " 560. 565. 570. 575. 580. 585. 590. 595. 600. 605. 610. 615. 620. 625.\n",
      " 630. 635. 640. 645. 650. 655. 660. 665. 670. 675. 680. 685. 690. 695.\n",
      " 700. 705. 710. 715. 720. 725. 730. 735. 740. 745. 750. 755. 760. 765.\n",
      " 770. 775. 780. 785. 790. 795. 800. 805. 810. 815. 820. 825. 830. 835.\n",
      " 840. 845. 850. 855. 860. 865. 870. 875. 880. 885. 890. 895.] min\n",
      "[ True  True  True False False False False False False False False False\n",
      " False False False False False False False False False False  True  True\n",
      "  True  True  True  True  True  True  True  True  True  True  True  True\n",
      "  True  True  True  True  True  True  True  True  True  True  True  True\n",
      "  True  True  True  True  True  True  True  True  True  True  True  True\n",
      "  True  True  True  True  True  True  True  True  True  True  True  True\n",
      "  True  True  True  True  True  True  True  True  True  True  True  True\n",
      "  True  True  True  True  True  True  True  True  True  True  True  True\n",
      "  True  True  True  True  True  True  True  True  True  True  True  True\n",
      "  True  True  True  True  True  True  True  True  True  True  True  True\n",
      "  True  True  True  True  True  True  True  True  True  True  True  True\n",
      "  True  True  True  True  True  True  True  True  True  True  True  True\n",
      "  True  True  True  True  True  True  True  True  True  True  True  True\n",
      "  True  True  True  True  True  True  True  True  True  True  True  True\n",
      "  True  True  True  True  True  True  True  True  True  True  True  True]\n"
     ]
    }
   ],
   "source": [
    "duration_in_min = 60*15\n",
    "timestep_in_min = 5\n",
    "t = np.arange(0, duration_in_min, timestep_in_min)*u.min\n",
    "print(t)\n",
    "\n",
    "generation_stop = 15*u.min\n",
    "generation_restart = 110*u.min\n",
    "\n",
    "illumination_status_list = [] #empty list\n",
    "\n",
    "for i in range(len(t)):\n",
    "    time = t[i]\n",
    "    if ((generation_stop<=time) & (time<generation_restart)): #panels retracted or not tracking the Sun\n",
    "        panels_illuminated = False\n",
    "    else:\n",
    "        panels_illuminated = True\n",
    "    illumination_status_list.append(panels_illuminated)\n",
    "    \n",
    "in_sunlight_array = np.asarray(illumination_status_list)\n",
    "print(in_sunlight_array)"
   ]
  },
  {
   "cell_type": "markdown",
   "id": "a299810d",
   "metadata": {},
   "source": [
    "### Plot Illumination Status Over Time"
   ]
  },
  {
   "cell_type": "code",
   "execution_count": 51,
   "id": "fab18085",
   "metadata": {},
   "outputs": [
    {
     "data": {
      "application/vnd.plotly.v1+json": {
       "config": {
        "plotlyServerURL": "https://plot.ly"
       },
       "data": [
        {
         "type": "scatter",
         "x": {
          "bdata": "AAAAAAAAAAAAAAAAAAAUQAAAAAAAACRAAAAAAAAALkAAAAAAAAA0QAAAAAAAADlAAAAAAAAAPkAAAAAAAIBBQAAAAAAAAERAAAAAAACARkAAAAAAAABJQAAAAAAAgEtAAAAAAAAATkAAAAAAAEBQQAAAAAAAgFFAAAAAAADAUkAAAAAAAABUQAAAAAAAQFVAAAAAAACAVkAAAAAAAMBXQAAAAAAAAFlAAAAAAABAWkAAAAAAAIBbQAAAAAAAwFxAAAAAAAAAXkAAAAAAAEBfQAAAAAAAQGBAAAAAAADgYEAAAAAAAIBhQAAAAAAAIGJAAAAAAADAYkAAAAAAAGBjQAAAAAAAAGRAAAAAAACgZEAAAAAAAEBlQAAAAAAA4GVAAAAAAACAZkAAAAAAACBnQAAAAAAAwGdAAAAAAABgaEAAAAAAAABpQAAAAAAAoGlAAAAAAABAakAAAAAAAOBqQAAAAAAAgGtAAAAAAAAgbEAAAAAAAMBsQAAAAAAAYG1AAAAAAAAAbkAAAAAAAKBuQAAAAAAAQG9AAAAAAADgb0AAAAAAAEBwQAAAAAAAkHBAAAAAAADgcEAAAAAAADBxQAAAAAAAgHFAAAAAAADQcUAAAAAAACByQAAAAAAAcHJAAAAAAADAckAAAAAAABBzQAAAAAAAYHNAAAAAAACwc0AAAAAAAAB0QAAAAAAAUHRAAAAAAACgdEAAAAAAAPB0QAAAAAAAQHVAAAAAAACQdUAAAAAAAOB1QAAAAAAAMHZAAAAAAACAdkAAAAAAANB2QAAAAAAAIHdAAAAAAABwd0AAAAAAAMB3QAAAAAAAEHhAAAAAAABgeEAAAAAAALB4QAAAAAAAAHlAAAAAAABQeUAAAAAAAKB5QAAAAAAA8HlAAAAAAABAekAAAAAAAJB6QAAAAAAA4HpAAAAAAAAwe0AAAAAAAIB7QAAAAAAA0HtAAAAAAAAgfEAAAAAAAHB8QAAAAAAAwHxAAAAAAAAQfUAAAAAAAGB9QAAAAAAAsH1AAAAAAAAAfkAAAAAAAFB+QAAAAAAAoH5AAAAAAADwfkAAAAAAAEB/QAAAAAAAkH9AAAAAAADgf0AAAAAAABiAQAAAAAAAQIBAAAAAAABogEAAAAAAAJCAQAAAAAAAuIBAAAAAAADggEAAAAAAAAiBQAAAAAAAMIFAAAAAAABYgUAAAAAAAICBQAAAAAAAqIFAAAAAAADQgUAAAAAAAPiBQAAAAAAAIIJAAAAAAABIgkAAAAAAAHCCQAAAAAAAmIJAAAAAAADAgkAAAAAAAOiCQAAAAAAAEINAAAAAAAA4g0AAAAAAAGCDQAAAAAAAiINAAAAAAACwg0AAAAAAANiDQAAAAAAAAIRAAAAAAAAohEAAAAAAAFCEQAAAAAAAeIRAAAAAAACghEAAAAAAAMiEQAAAAAAA8IRAAAAAAAAYhUAAAAAAAECFQAAAAAAAaIVAAAAAAACQhUAAAAAAALiFQAAAAAAA4IVAAAAAAAAIhkAAAAAAADCGQAAAAAAAWIZAAAAAAACAhkAAAAAAAKiGQAAAAAAA0IZAAAAAAAD4hkAAAAAAACCHQAAAAAAASIdAAAAAAABwh0AAAAAAAJiHQAAAAAAAwIdAAAAAAADoh0AAAAAAABCIQAAAAAAAOIhAAAAAAABgiEAAAAAAAIiIQAAAAAAAsIhAAAAAAADYiEAAAAAAAACJQAAAAAAAKIlAAAAAAABQiUAAAAAAAHiJQAAAAAAAoIlAAAAAAADIiUAAAAAAAPCJQAAAAAAAGIpAAAAAAABAikAAAAAAAGiKQAAAAAAAkIpAAAAAAAC4ikAAAAAAAOCKQAAAAAAACItAAAAAAAAwi0AAAAAAAFiLQAAAAAAAgItAAAAAAACoi0AAAAAAANCLQAAAAAAA+ItA",
          "dtype": "f8"
         },
         "y": [
          true,
          true,
          true,
          false,
          false,
          false,
          false,
          false,
          false,
          false,
          false,
          false,
          false,
          false,
          false,
          false,
          false,
          false,
          false,
          false,
          false,
          false,
          true,
          true,
          true,
          true,
          true,
          true,
          true,
          true,
          true,
          true,
          true,
          true,
          true,
          true,
          true,
          true,
          true,
          true,
          true,
          true,
          true,
          true,
          true,
          true,
          true,
          true,
          true,
          true,
          true,
          true,
          true,
          true,
          true,
          true,
          true,
          true,
          true,
          true,
          true,
          true,
          true,
          true,
          true,
          true,
          true,
          true,
          true,
          true,
          true,
          true,
          true,
          true,
          true,
          true,
          true,
          true,
          true,
          true,
          true,
          true,
          true,
          true,
          true,
          true,
          true,
          true,
          true,
          true,
          true,
          true,
          true,
          true,
          true,
          true,
          true,
          true,
          true,
          true,
          true,
          true,
          true,
          true,
          true,
          true,
          true,
          true,
          true,
          true,
          true,
          true,
          true,
          true,
          true,
          true,
          true,
          true,
          true,
          true,
          true,
          true,
          true,
          true,
          true,
          true,
          true,
          true,
          true,
          true,
          true,
          true,
          true,
          true,
          true,
          true,
          true,
          true,
          true,
          true,
          true,
          true,
          true,
          true,
          true,
          true,
          true,
          true,
          true,
          true,
          true,
          true,
          true,
          true,
          true,
          true,
          true,
          true,
          true,
          true,
          true,
          true,
          true,
          true,
          true,
          true,
          true,
          true,
          true,
          true,
          true,
          true,
          true,
          true,
          true,
          true,
          true,
          true,
          true,
          true
         ]
        }
       ],
       "layout": {
        "template": {
         "data": {
          "bar": [
           {
            "error_x": {
             "color": "#f2f5fa"
            },
            "error_y": {
             "color": "#f2f5fa"
            },
            "marker": {
             "line": {
              "color": "rgb(17,17,17)",
              "width": 0.5
             },
             "pattern": {
              "fillmode": "overlay",
              "size": 10,
              "solidity": 0.2
             }
            },
            "type": "bar"
           }
          ],
          "barpolar": [
           {
            "marker": {
             "line": {
              "color": "rgb(17,17,17)",
              "width": 0.5
             },
             "pattern": {
              "fillmode": "overlay",
              "size": 10,
              "solidity": 0.2
             }
            },
            "type": "barpolar"
           }
          ],
          "carpet": [
           {
            "aaxis": {
             "endlinecolor": "#A2B1C6",
             "gridcolor": "#506784",
             "linecolor": "#506784",
             "minorgridcolor": "#506784",
             "startlinecolor": "#A2B1C6"
            },
            "baxis": {
             "endlinecolor": "#A2B1C6",
             "gridcolor": "#506784",
             "linecolor": "#506784",
             "minorgridcolor": "#506784",
             "startlinecolor": "#A2B1C6"
            },
            "type": "carpet"
           }
          ],
          "choropleth": [
           {
            "colorbar": {
             "outlinewidth": 0,
             "ticks": ""
            },
            "type": "choropleth"
           }
          ],
          "contour": [
           {
            "colorbar": {
             "outlinewidth": 0,
             "ticks": ""
            },
            "colorscale": [
             [
              0,
              "#0d0887"
             ],
             [
              0.1111111111111111,
              "#46039f"
             ],
             [
              0.2222222222222222,
              "#7201a8"
             ],
             [
              0.3333333333333333,
              "#9c179e"
             ],
             [
              0.4444444444444444,
              "#bd3786"
             ],
             [
              0.5555555555555556,
              "#d8576b"
             ],
             [
              0.6666666666666666,
              "#ed7953"
             ],
             [
              0.7777777777777778,
              "#fb9f3a"
             ],
             [
              0.8888888888888888,
              "#fdca26"
             ],
             [
              1,
              "#f0f921"
             ]
            ],
            "type": "contour"
           }
          ],
          "contourcarpet": [
           {
            "colorbar": {
             "outlinewidth": 0,
             "ticks": ""
            },
            "type": "contourcarpet"
           }
          ],
          "heatmap": [
           {
            "colorbar": {
             "outlinewidth": 0,
             "ticks": ""
            },
            "colorscale": [
             [
              0,
              "#0d0887"
             ],
             [
              0.1111111111111111,
              "#46039f"
             ],
             [
              0.2222222222222222,
              "#7201a8"
             ],
             [
              0.3333333333333333,
              "#9c179e"
             ],
             [
              0.4444444444444444,
              "#bd3786"
             ],
             [
              0.5555555555555556,
              "#d8576b"
             ],
             [
              0.6666666666666666,
              "#ed7953"
             ],
             [
              0.7777777777777778,
              "#fb9f3a"
             ],
             [
              0.8888888888888888,
              "#fdca26"
             ],
             [
              1,
              "#f0f921"
             ]
            ],
            "type": "heatmap"
           }
          ],
          "histogram": [
           {
            "marker": {
             "pattern": {
              "fillmode": "overlay",
              "size": 10,
              "solidity": 0.2
             }
            },
            "type": "histogram"
           }
          ],
          "histogram2d": [
           {
            "colorbar": {
             "outlinewidth": 0,
             "ticks": ""
            },
            "colorscale": [
             [
              0,
              "#0d0887"
             ],
             [
              0.1111111111111111,
              "#46039f"
             ],
             [
              0.2222222222222222,
              "#7201a8"
             ],
             [
              0.3333333333333333,
              "#9c179e"
             ],
             [
              0.4444444444444444,
              "#bd3786"
             ],
             [
              0.5555555555555556,
              "#d8576b"
             ],
             [
              0.6666666666666666,
              "#ed7953"
             ],
             [
              0.7777777777777778,
              "#fb9f3a"
             ],
             [
              0.8888888888888888,
              "#fdca26"
             ],
             [
              1,
              "#f0f921"
             ]
            ],
            "type": "histogram2d"
           }
          ],
          "histogram2dcontour": [
           {
            "colorbar": {
             "outlinewidth": 0,
             "ticks": ""
            },
            "colorscale": [
             [
              0,
              "#0d0887"
             ],
             [
              0.1111111111111111,
              "#46039f"
             ],
             [
              0.2222222222222222,
              "#7201a8"
             ],
             [
              0.3333333333333333,
              "#9c179e"
             ],
             [
              0.4444444444444444,
              "#bd3786"
             ],
             [
              0.5555555555555556,
              "#d8576b"
             ],
             [
              0.6666666666666666,
              "#ed7953"
             ],
             [
              0.7777777777777778,
              "#fb9f3a"
             ],
             [
              0.8888888888888888,
              "#fdca26"
             ],
             [
              1,
              "#f0f921"
             ]
            ],
            "type": "histogram2dcontour"
           }
          ],
          "mesh3d": [
           {
            "colorbar": {
             "outlinewidth": 0,
             "ticks": ""
            },
            "type": "mesh3d"
           }
          ],
          "parcoords": [
           {
            "line": {
             "colorbar": {
              "outlinewidth": 0,
              "ticks": ""
             }
            },
            "type": "parcoords"
           }
          ],
          "pie": [
           {
            "automargin": true,
            "type": "pie"
           }
          ],
          "scatter": [
           {
            "marker": {
             "line": {
              "color": "#283442"
             }
            },
            "type": "scatter"
           }
          ],
          "scatter3d": [
           {
            "line": {
             "colorbar": {
              "outlinewidth": 0,
              "ticks": ""
             }
            },
            "marker": {
             "colorbar": {
              "outlinewidth": 0,
              "ticks": ""
             }
            },
            "type": "scatter3d"
           }
          ],
          "scattercarpet": [
           {
            "marker": {
             "colorbar": {
              "outlinewidth": 0,
              "ticks": ""
             }
            },
            "type": "scattercarpet"
           }
          ],
          "scattergeo": [
           {
            "marker": {
             "colorbar": {
              "outlinewidth": 0,
              "ticks": ""
             }
            },
            "type": "scattergeo"
           }
          ],
          "scattergl": [
           {
            "marker": {
             "line": {
              "color": "#283442"
             }
            },
            "type": "scattergl"
           }
          ],
          "scattermap": [
           {
            "marker": {
             "colorbar": {
              "outlinewidth": 0,
              "ticks": ""
             }
            },
            "type": "scattermap"
           }
          ],
          "scattermapbox": [
           {
            "marker": {
             "colorbar": {
              "outlinewidth": 0,
              "ticks": ""
             }
            },
            "type": "scattermapbox"
           }
          ],
          "scatterpolar": [
           {
            "marker": {
             "colorbar": {
              "outlinewidth": 0,
              "ticks": ""
             }
            },
            "type": "scatterpolar"
           }
          ],
          "scatterpolargl": [
           {
            "marker": {
             "colorbar": {
              "outlinewidth": 0,
              "ticks": ""
             }
            },
            "type": "scatterpolargl"
           }
          ],
          "scatterternary": [
           {
            "marker": {
             "colorbar": {
              "outlinewidth": 0,
              "ticks": ""
             }
            },
            "type": "scatterternary"
           }
          ],
          "surface": [
           {
            "colorbar": {
             "outlinewidth": 0,
             "ticks": ""
            },
            "colorscale": [
             [
              0,
              "#0d0887"
             ],
             [
              0.1111111111111111,
              "#46039f"
             ],
             [
              0.2222222222222222,
              "#7201a8"
             ],
             [
              0.3333333333333333,
              "#9c179e"
             ],
             [
              0.4444444444444444,
              "#bd3786"
             ],
             [
              0.5555555555555556,
              "#d8576b"
             ],
             [
              0.6666666666666666,
              "#ed7953"
             ],
             [
              0.7777777777777778,
              "#fb9f3a"
             ],
             [
              0.8888888888888888,
              "#fdca26"
             ],
             [
              1,
              "#f0f921"
             ]
            ],
            "type": "surface"
           }
          ],
          "table": [
           {
            "cells": {
             "fill": {
              "color": "#506784"
             },
             "line": {
              "color": "rgb(17,17,17)"
             }
            },
            "header": {
             "fill": {
              "color": "#2a3f5f"
             },
             "line": {
              "color": "rgb(17,17,17)"
             }
            },
            "type": "table"
           }
          ]
         },
         "layout": {
          "annotationdefaults": {
           "arrowcolor": "#f2f5fa",
           "arrowhead": 0,
           "arrowwidth": 1
          },
          "autotypenumbers": "strict",
          "coloraxis": {
           "colorbar": {
            "outlinewidth": 0,
            "ticks": ""
           }
          },
          "colorscale": {
           "diverging": [
            [
             0,
             "#8e0152"
            ],
            [
             0.1,
             "#c51b7d"
            ],
            [
             0.2,
             "#de77ae"
            ],
            [
             0.3,
             "#f1b6da"
            ],
            [
             0.4,
             "#fde0ef"
            ],
            [
             0.5,
             "#f7f7f7"
            ],
            [
             0.6,
             "#e6f5d0"
            ],
            [
             0.7,
             "#b8e186"
            ],
            [
             0.8,
             "#7fbc41"
            ],
            [
             0.9,
             "#4d9221"
            ],
            [
             1,
             "#276419"
            ]
           ],
           "sequential": [
            [
             0,
             "#0d0887"
            ],
            [
             0.1111111111111111,
             "#46039f"
            ],
            [
             0.2222222222222222,
             "#7201a8"
            ],
            [
             0.3333333333333333,
             "#9c179e"
            ],
            [
             0.4444444444444444,
             "#bd3786"
            ],
            [
             0.5555555555555556,
             "#d8576b"
            ],
            [
             0.6666666666666666,
             "#ed7953"
            ],
            [
             0.7777777777777778,
             "#fb9f3a"
            ],
            [
             0.8888888888888888,
             "#fdca26"
            ],
            [
             1,
             "#f0f921"
            ]
           ],
           "sequentialminus": [
            [
             0,
             "#0d0887"
            ],
            [
             0.1111111111111111,
             "#46039f"
            ],
            [
             0.2222222222222222,
             "#7201a8"
            ],
            [
             0.3333333333333333,
             "#9c179e"
            ],
            [
             0.4444444444444444,
             "#bd3786"
            ],
            [
             0.5555555555555556,
             "#d8576b"
            ],
            [
             0.6666666666666666,
             "#ed7953"
            ],
            [
             0.7777777777777778,
             "#fb9f3a"
            ],
            [
             0.8888888888888888,
             "#fdca26"
            ],
            [
             1,
             "#f0f921"
            ]
           ]
          },
          "colorway": [
           "#636efa",
           "#EF553B",
           "#00cc96",
           "#ab63fa",
           "#FFA15A",
           "#19d3f3",
           "#FF6692",
           "#B6E880",
           "#FF97FF",
           "#FECB52"
          ],
          "font": {
           "color": "#f2f5fa"
          },
          "geo": {
           "bgcolor": "rgb(17,17,17)",
           "lakecolor": "rgb(17,17,17)",
           "landcolor": "rgb(17,17,17)",
           "showlakes": true,
           "showland": true,
           "subunitcolor": "#506784"
          },
          "hoverlabel": {
           "align": "left"
          },
          "hovermode": "closest",
          "mapbox": {
           "style": "dark"
          },
          "paper_bgcolor": "rgb(17,17,17)",
          "plot_bgcolor": "rgb(17,17,17)",
          "polar": {
           "angularaxis": {
            "gridcolor": "#506784",
            "linecolor": "#506784",
            "ticks": ""
           },
           "bgcolor": "rgb(17,17,17)",
           "radialaxis": {
            "gridcolor": "#506784",
            "linecolor": "#506784",
            "ticks": ""
           }
          },
          "scene": {
           "xaxis": {
            "backgroundcolor": "rgb(17,17,17)",
            "gridcolor": "#506784",
            "gridwidth": 2,
            "linecolor": "#506784",
            "showbackground": true,
            "ticks": "",
            "zerolinecolor": "#C8D4E3"
           },
           "yaxis": {
            "backgroundcolor": "rgb(17,17,17)",
            "gridcolor": "#506784",
            "gridwidth": 2,
            "linecolor": "#506784",
            "showbackground": true,
            "ticks": "",
            "zerolinecolor": "#C8D4E3"
           },
           "zaxis": {
            "backgroundcolor": "rgb(17,17,17)",
            "gridcolor": "#506784",
            "gridwidth": 2,
            "linecolor": "#506784",
            "showbackground": true,
            "ticks": "",
            "zerolinecolor": "#C8D4E3"
           }
          },
          "shapedefaults": {
           "line": {
            "color": "#f2f5fa"
           }
          },
          "sliderdefaults": {
           "bgcolor": "#C8D4E3",
           "bordercolor": "rgb(17,17,17)",
           "borderwidth": 1,
           "tickwidth": 0
          },
          "ternary": {
           "aaxis": {
            "gridcolor": "#506784",
            "linecolor": "#506784",
            "ticks": ""
           },
           "baxis": {
            "gridcolor": "#506784",
            "linecolor": "#506784",
            "ticks": ""
           },
           "bgcolor": "rgb(17,17,17)",
           "caxis": {
            "gridcolor": "#506784",
            "linecolor": "#506784",
            "ticks": ""
           }
          },
          "title": {
           "x": 0.05
          },
          "updatemenudefaults": {
           "bgcolor": "#506784",
           "borderwidth": 0
          },
          "xaxis": {
           "automargin": true,
           "gridcolor": "#283442",
           "linecolor": "#506784",
           "ticks": "",
           "title": {
            "standoff": 15
           },
           "zerolinecolor": "#283442",
           "zerolinewidth": 2
          },
          "yaxis": {
           "automargin": true,
           "gridcolor": "#283442",
           "linecolor": "#506784",
           "ticks": "",
           "title": {
            "standoff": 15
           },
           "zerolinecolor": "#283442",
           "zerolinewidth": 2
          }
         }
        },
        "title": {
         "text": "Illumination Status Over Time (Simulated Period: 900 min)"
        },
        "xaxis": {
         "title": {
          "text": "t (min)"
         }
        },
        "yaxis": {
         "autorange": "reversed",
         "title": {
          "text": "In Sunlight"
         }
        }
       }
      }
     },
     "metadata": {},
     "output_type": "display_data"
    }
   ],
   "source": [
    "# import plotly #import our graphing module plotly\n",
    "import plotly.graph_objects as go\n",
    "\n",
    "fig = go.Figure(data=go.Scatter(x=t, y=in_sunlight_array)) #create a scatter plot from the in_eclipse_theta_array and in_eclipse_array\n",
    "fig.layout.template = \"plotly_dark\" #activate the dark theme, comment out for light theme if you want\n",
    "\n",
    "fig.update_yaxes(autorange=\"reversed\") #flip y axis, comment out to unflip if required\n",
    "\n",
    "fig.update_layout(title=\"Illumination Status Over Time (Simulated Period: {} min)\".format(duration_in_min), #add figure title and axis titles\n",
    "                  xaxis_title=\"t ({})\".format(t.unit),\n",
    "                  yaxis_title=\"In Sunlight\",\n",
    "                  )\n",
    "\n",
    "fig.show() #display figure"
   ]
  },
  {
   "cell_type": "markdown",
   "id": "710b0f5a",
   "metadata": {},
   "source": [
    "### Get data from excel file"
   ]
  },
  {
   "cell_type": "code",
   "execution_count": 52,
   "id": "47ffc87d",
   "metadata": {},
   "outputs": [],
   "source": [
    "from openpyxl import load_workbook\n",
    "wb = load_workbook(filename = 'Spacecraft Operational Modes.xlsx', data_only=True)\n",
    "\n",
    "# grab the active worksheet\n",
    "ws = wb.active"
   ]
  },
  {
   "cell_type": "markdown",
   "id": "7f366dc0",
   "metadata": {},
   "source": [
    "### Enter Power Draws for Different Operational Modes"
   ]
  },
  {
   "cell_type": "code",
   "execution_count": 53,
   "id": "e808acec",
   "metadata": {},
   "outputs": [
    {
     "name": "stdout",
     "output_type": "stream",
     "text": [
      "Idle Power:  60.0 W\n",
      "Collecting Power:  500.0 W\n",
      "Sintering Power:  805.0 W\n",
      "Cooling Power:  65.0 W\n",
      "Testing Power:  235.0 W\n"
     ]
    }
   ],
   "source": [
    "p_idle = ws['D12'].value* u.W #idle power consumption of the spacecraft\n",
    "print(\"Idle Power: \", p_idle)\n",
    "\n",
    "p_collecting = ws['F12'].value*u.W #using the arm to collect regolith\n",
    "print(\"Collecting Power: \", p_collecting)\n",
    "\n",
    "p_sintering = ws['H12'].value*u.W #heating up the regolith to sinter\n",
    "print(\"Sintering Power: \", p_sintering)\n",
    "\n",
    "p_cooling = ws['J12'].value*u.W #cooling down heated regolith\n",
    "print(\"Cooling Power: \", p_cooling)\n",
    "\n",
    "p_testing = ws['L12'].value*u.W #compressive test on brick and imaging\n",
    "print(\"Testing Power: \", p_testing)"
   ]
  },
  {
   "cell_type": "markdown",
   "id": "87638bbb",
   "metadata": {},
   "source": [
    "### Enter the Timing of the Different Modes"
   ]
  },
  {
   "cell_type": "code",
   "execution_count": 54,
   "id": "1f7f2f34",
   "metadata": {},
   "outputs": [],
   "source": [
    "power_consumption = np.ones(t.shape)*u.W #array of p_data_processing, same shape as t\n",
    "collecting_start = 5*u.min\n",
    "collecting_duration = 30*u.min\n",
    "\n",
    "sintering_start = 60*u.min\n",
    "sintering_duration = 5*u.hour\n",
    "\n",
    "cooling_start = 360*u.min\n",
    "cooling_duration = 3*u.hour\n",
    "\n",
    "testing_start = 560*u.min\n",
    "testing_duration = 1*u.hour"
   ]
  },
  {
   "cell_type": "markdown",
   "id": "04347e95",
   "metadata": {},
   "source": [
    "### Calculate Consumption"
   ]
  },
  {
   "cell_type": "code",
   "execution_count": 55,
   "id": "418b80ea",
   "metadata": {},
   "outputs": [],
   "source": [
    "for i in range(len(t)):\n",
    "    time = t[i]\n",
    "    if ((collecting_start<=time) & (time<collecting_start+collecting_duration)): #Collecting\n",
    "        power_consumption[i] = p_collecting\n",
    "    elif ((sintering_start<=time) & (time<sintering_start+sintering_duration)): #Sintering\n",
    "        power_consumption[i] = p_sintering\n",
    "    elif ((cooling_start<=time) & (time<cooling_start+cooling_duration)): #Cooling\n",
    "        power_consumption[i] = p_cooling\n",
    "    elif ((testing_start<=time) & (time<testing_start+testing_duration)): #comms contact\n",
    "        power_consumption[i] = p_testing\n",
    "    else:\n",
    "        power_consumption[i] = p_idle"
   ]
  },
  {
   "cell_type": "markdown",
   "id": "4d1f008b",
   "metadata": {},
   "source": [
    "### Plot the Power Consumption Over the Relevant Time Period"
   ]
  },
  {
   "cell_type": "code",
   "execution_count": 56,
   "id": "781d986d",
   "metadata": {},
   "outputs": [
    {
     "data": {
      "application/vnd.plotly.v1+json": {
       "config": {
        "plotlyServerURL": "https://plot.ly"
       },
       "data": [
        {
         "line": {
          "color": "#EF553B"
         },
         "name": "Power Consumption (W)",
         "showlegend": false,
         "type": "scatter",
         "x": {
          "bdata": "AAAAAAAAAAAAAAAAAAAUQAAAAAAAACRAAAAAAAAALkAAAAAAAAA0QAAAAAAAADlAAAAAAAAAPkAAAAAAAIBBQAAAAAAAAERAAAAAAACARkAAAAAAAABJQAAAAAAAgEtAAAAAAAAATkAAAAAAAEBQQAAAAAAAgFFAAAAAAADAUkAAAAAAAABUQAAAAAAAQFVAAAAAAACAVkAAAAAAAMBXQAAAAAAAAFlAAAAAAABAWkAAAAAAAIBbQAAAAAAAwFxAAAAAAAAAXkAAAAAAAEBfQAAAAAAAQGBAAAAAAADgYEAAAAAAAIBhQAAAAAAAIGJAAAAAAADAYkAAAAAAAGBjQAAAAAAAAGRAAAAAAACgZEAAAAAAAEBlQAAAAAAA4GVAAAAAAACAZkAAAAAAACBnQAAAAAAAwGdAAAAAAABgaEAAAAAAAABpQAAAAAAAoGlAAAAAAABAakAAAAAAAOBqQAAAAAAAgGtAAAAAAAAgbEAAAAAAAMBsQAAAAAAAYG1AAAAAAAAAbkAAAAAAAKBuQAAAAAAAQG9AAAAAAADgb0AAAAAAAEBwQAAAAAAAkHBAAAAAAADgcEAAAAAAADBxQAAAAAAAgHFAAAAAAADQcUAAAAAAACByQAAAAAAAcHJAAAAAAADAckAAAAAAABBzQAAAAAAAYHNAAAAAAACwc0AAAAAAAAB0QAAAAAAAUHRAAAAAAACgdEAAAAAAAPB0QAAAAAAAQHVAAAAAAACQdUAAAAAAAOB1QAAAAAAAMHZAAAAAAACAdkAAAAAAANB2QAAAAAAAIHdAAAAAAABwd0AAAAAAAMB3QAAAAAAAEHhAAAAAAABgeEAAAAAAALB4QAAAAAAAAHlAAAAAAABQeUAAAAAAAKB5QAAAAAAA8HlAAAAAAABAekAAAAAAAJB6QAAAAAAA4HpAAAAAAAAwe0AAAAAAAIB7QAAAAAAA0HtAAAAAAAAgfEAAAAAAAHB8QAAAAAAAwHxAAAAAAAAQfUAAAAAAAGB9QAAAAAAAsH1AAAAAAAAAfkAAAAAAAFB+QAAAAAAAoH5AAAAAAADwfkAAAAAAAEB/QAAAAAAAkH9AAAAAAADgf0AAAAAAABiAQAAAAAAAQIBAAAAAAABogEAAAAAAAJCAQAAAAAAAuIBAAAAAAADggEAAAAAAAAiBQAAAAAAAMIFAAAAAAABYgUAAAAAAAICBQAAAAAAAqIFAAAAAAADQgUAAAAAAAPiBQAAAAAAAIIJAAAAAAABIgkAAAAAAAHCCQAAAAAAAmIJAAAAAAADAgkAAAAAAAOiCQAAAAAAAEINAAAAAAAA4g0AAAAAAAGCDQAAAAAAAiINAAAAAAACwg0AAAAAAANiDQAAAAAAAAIRAAAAAAAAohEAAAAAAAFCEQAAAAAAAeIRAAAAAAACghEAAAAAAAMiEQAAAAAAA8IRAAAAAAAAYhUAAAAAAAECFQAAAAAAAaIVAAAAAAACQhUAAAAAAALiFQAAAAAAA4IVAAAAAAAAIhkAAAAAAADCGQAAAAAAAWIZAAAAAAACAhkAAAAAAAKiGQAAAAAAA0IZAAAAAAAD4hkAAAAAAACCHQAAAAAAASIdAAAAAAABwh0AAAAAAAJiHQAAAAAAAwIdAAAAAAADoh0AAAAAAABCIQAAAAAAAOIhAAAAAAABgiEAAAAAAAIiIQAAAAAAAsIhAAAAAAADYiEAAAAAAAACJQAAAAAAAKIlAAAAAAABQiUAAAAAAAHiJQAAAAAAAoIlAAAAAAADIiUAAAAAAAPCJQAAAAAAAGIpAAAAAAABAikAAAAAAAGiKQAAAAAAAkIpAAAAAAAC4ikAAAAAAAOCKQAAAAAAACItAAAAAAAAwi0AAAAAAAFiLQAAAAAAAgItAAAAAAACoi0AAAAAAANCLQAAAAAAA+ItA",
          "dtype": "f8"
         },
         "xaxis": "x",
         "y": {
          "bdata": "AAAAAAAATkAAAAAAAEB/QAAAAAAAQH9AAAAAAABAf0AAAAAAAEB/QAAAAAAAQH9AAAAAAABAf0AAAAAAAABOQAAAAAAAAE5AAAAAAAAATkAAAAAAAABOQAAAAAAAAE5AAAAAAAAoiUAAAAAAACiJQAAAAAAAKIlAAAAAAAAoiUAAAAAAACiJQAAAAAAAKIlAAAAAAAAoiUAAAAAAACiJQAAAAAAAKIlAAAAAAAAoiUAAAAAAACiJQAAAAAAAKIlAAAAAAAAoiUAAAAAAACiJQAAAAAAAKIlAAAAAAAAoiUAAAAAAACiJQAAAAAAAKIlAAAAAAAAoiUAAAAAAACiJQAAAAAAAKIlAAAAAAAAoiUAAAAAAACiJQAAAAAAAKIlAAAAAAAAoiUAAAAAAACiJQAAAAAAAKIlAAAAAAAAoiUAAAAAAACiJQAAAAAAAKIlAAAAAAAAoiUAAAAAAACiJQAAAAAAAKIlAAAAAAAAoiUAAAAAAACiJQAAAAAAAKIlAAAAAAAAoiUAAAAAAACiJQAAAAAAAKIlAAAAAAAAoiUAAAAAAACiJQAAAAAAAKIlAAAAAAAAoiUAAAAAAACiJQAAAAAAAKIlAAAAAAAAoiUAAAAAAACiJQAAAAAAAKIlAAAAAAAAoiUAAAAAAACiJQAAAAAAAKIlAAAAAAAAoiUAAAAAAACiJQAAAAAAAKIlAAAAAAAAoiUAAAAAAACiJQAAAAAAAKIlAAAAAAAAoiUAAAAAAACiJQAAAAAAAKIlAAAAAAABAUEAAAAAAAEBQQAAAAAAAQFBAAAAAAABAUEAAAAAAAEBQQAAAAAAAQFBAAAAAAABAUEAAAAAAAEBQQAAAAAAAQFBAAAAAAABAUEAAAAAAAEBQQAAAAAAAQFBAAAAAAABAUEAAAAAAAEBQQAAAAAAAQFBAAAAAAABAUEAAAAAAAEBQQAAAAAAAQFBAAAAAAABAUEAAAAAAAEBQQAAAAAAAQFBAAAAAAABAUEAAAAAAAEBQQAAAAAAAQFBAAAAAAABAUEAAAAAAAEBQQAAAAAAAQFBAAAAAAABAUEAAAAAAAEBQQAAAAAAAQFBAAAAAAABAUEAAAAAAAEBQQAAAAAAAQFBAAAAAAABAUEAAAAAAAEBQQAAAAAAAQFBAAAAAAAAATkAAAAAAAABOQAAAAAAAAE5AAAAAAAAATkAAAAAAAGBtQAAAAAAAYG1AAAAAAABgbUAAAAAAAGBtQAAAAAAAYG1AAAAAAABgbUAAAAAAAGBtQAAAAAAAYG1AAAAAAABgbUAAAAAAAGBtQAAAAAAAYG1AAAAAAABgbUAAAAAAAABOQAAAAAAAAE5AAAAAAAAATkAAAAAAAABOQAAAAAAAAE5AAAAAAAAATkAAAAAAAABOQAAAAAAAAE5AAAAAAAAATkAAAAAAAABOQAAAAAAAAE5AAAAAAAAATkAAAAAAAABOQAAAAAAAAE5AAAAAAAAATkAAAAAAAABOQAAAAAAAAE5AAAAAAAAATkAAAAAAAABOQAAAAAAAAE5AAAAAAAAATkAAAAAAAABOQAAAAAAAAE5AAAAAAAAATkAAAAAAAABOQAAAAAAAAE5AAAAAAAAATkAAAAAAAABOQAAAAAAAAE5AAAAAAAAATkAAAAAAAABOQAAAAAAAAE5AAAAAAAAATkAAAAAAAABOQAAAAAAAAE5AAAAAAAAATkAAAAAAAABOQAAAAAAAAE5AAAAAAAAATkAAAAAAAABOQAAAAAAAAE5AAAAAAAAATkAAAAAAAABOQAAAAAAAAE5AAAAAAAAATkAAAAAAAABOQAAAAAAAAE5AAAAAAAAATkAAAAAAAABOQAAAAAAAAE5AAAAAAAAATkAAAAAAAABOQAAAAAAAAE5AAAAAAAAATkAAAAAAAABOQAAAAAAAAE5A",
          "dtype": "f8"
         },
         "yaxis": "y"
        }
       ],
       "layout": {
        "height": 800,
        "template": {
         "data": {
          "bar": [
           {
            "error_x": {
             "color": "#f2f5fa"
            },
            "error_y": {
             "color": "#f2f5fa"
            },
            "marker": {
             "line": {
              "color": "rgb(17,17,17)",
              "width": 0.5
             },
             "pattern": {
              "fillmode": "overlay",
              "size": 10,
              "solidity": 0.2
             }
            },
            "type": "bar"
           }
          ],
          "barpolar": [
           {
            "marker": {
             "line": {
              "color": "rgb(17,17,17)",
              "width": 0.5
             },
             "pattern": {
              "fillmode": "overlay",
              "size": 10,
              "solidity": 0.2
             }
            },
            "type": "barpolar"
           }
          ],
          "carpet": [
           {
            "aaxis": {
             "endlinecolor": "#A2B1C6",
             "gridcolor": "#506784",
             "linecolor": "#506784",
             "minorgridcolor": "#506784",
             "startlinecolor": "#A2B1C6"
            },
            "baxis": {
             "endlinecolor": "#A2B1C6",
             "gridcolor": "#506784",
             "linecolor": "#506784",
             "minorgridcolor": "#506784",
             "startlinecolor": "#A2B1C6"
            },
            "type": "carpet"
           }
          ],
          "choropleth": [
           {
            "colorbar": {
             "outlinewidth": 0,
             "ticks": ""
            },
            "type": "choropleth"
           }
          ],
          "contour": [
           {
            "colorbar": {
             "outlinewidth": 0,
             "ticks": ""
            },
            "colorscale": [
             [
              0,
              "#0d0887"
             ],
             [
              0.1111111111111111,
              "#46039f"
             ],
             [
              0.2222222222222222,
              "#7201a8"
             ],
             [
              0.3333333333333333,
              "#9c179e"
             ],
             [
              0.4444444444444444,
              "#bd3786"
             ],
             [
              0.5555555555555556,
              "#d8576b"
             ],
             [
              0.6666666666666666,
              "#ed7953"
             ],
             [
              0.7777777777777778,
              "#fb9f3a"
             ],
             [
              0.8888888888888888,
              "#fdca26"
             ],
             [
              1,
              "#f0f921"
             ]
            ],
            "type": "contour"
           }
          ],
          "contourcarpet": [
           {
            "colorbar": {
             "outlinewidth": 0,
             "ticks": ""
            },
            "type": "contourcarpet"
           }
          ],
          "heatmap": [
           {
            "colorbar": {
             "outlinewidth": 0,
             "ticks": ""
            },
            "colorscale": [
             [
              0,
              "#0d0887"
             ],
             [
              0.1111111111111111,
              "#46039f"
             ],
             [
              0.2222222222222222,
              "#7201a8"
             ],
             [
              0.3333333333333333,
              "#9c179e"
             ],
             [
              0.4444444444444444,
              "#bd3786"
             ],
             [
              0.5555555555555556,
              "#d8576b"
             ],
             [
              0.6666666666666666,
              "#ed7953"
             ],
             [
              0.7777777777777778,
              "#fb9f3a"
             ],
             [
              0.8888888888888888,
              "#fdca26"
             ],
             [
              1,
              "#f0f921"
             ]
            ],
            "type": "heatmap"
           }
          ],
          "histogram": [
           {
            "marker": {
             "pattern": {
              "fillmode": "overlay",
              "size": 10,
              "solidity": 0.2
             }
            },
            "type": "histogram"
           }
          ],
          "histogram2d": [
           {
            "colorbar": {
             "outlinewidth": 0,
             "ticks": ""
            },
            "colorscale": [
             [
              0,
              "#0d0887"
             ],
             [
              0.1111111111111111,
              "#46039f"
             ],
             [
              0.2222222222222222,
              "#7201a8"
             ],
             [
              0.3333333333333333,
              "#9c179e"
             ],
             [
              0.4444444444444444,
              "#bd3786"
             ],
             [
              0.5555555555555556,
              "#d8576b"
             ],
             [
              0.6666666666666666,
              "#ed7953"
             ],
             [
              0.7777777777777778,
              "#fb9f3a"
             ],
             [
              0.8888888888888888,
              "#fdca26"
             ],
             [
              1,
              "#f0f921"
             ]
            ],
            "type": "histogram2d"
           }
          ],
          "histogram2dcontour": [
           {
            "colorbar": {
             "outlinewidth": 0,
             "ticks": ""
            },
            "colorscale": [
             [
              0,
              "#0d0887"
             ],
             [
              0.1111111111111111,
              "#46039f"
             ],
             [
              0.2222222222222222,
              "#7201a8"
             ],
             [
              0.3333333333333333,
              "#9c179e"
             ],
             [
              0.4444444444444444,
              "#bd3786"
             ],
             [
              0.5555555555555556,
              "#d8576b"
             ],
             [
              0.6666666666666666,
              "#ed7953"
             ],
             [
              0.7777777777777778,
              "#fb9f3a"
             ],
             [
              0.8888888888888888,
              "#fdca26"
             ],
             [
              1,
              "#f0f921"
             ]
            ],
            "type": "histogram2dcontour"
           }
          ],
          "mesh3d": [
           {
            "colorbar": {
             "outlinewidth": 0,
             "ticks": ""
            },
            "type": "mesh3d"
           }
          ],
          "parcoords": [
           {
            "line": {
             "colorbar": {
              "outlinewidth": 0,
              "ticks": ""
             }
            },
            "type": "parcoords"
           }
          ],
          "pie": [
           {
            "automargin": true,
            "type": "pie"
           }
          ],
          "scatter": [
           {
            "marker": {
             "line": {
              "color": "#283442"
             }
            },
            "type": "scatter"
           }
          ],
          "scatter3d": [
           {
            "line": {
             "colorbar": {
              "outlinewidth": 0,
              "ticks": ""
             }
            },
            "marker": {
             "colorbar": {
              "outlinewidth": 0,
              "ticks": ""
             }
            },
            "type": "scatter3d"
           }
          ],
          "scattercarpet": [
           {
            "marker": {
             "colorbar": {
              "outlinewidth": 0,
              "ticks": ""
             }
            },
            "type": "scattercarpet"
           }
          ],
          "scattergeo": [
           {
            "marker": {
             "colorbar": {
              "outlinewidth": 0,
              "ticks": ""
             }
            },
            "type": "scattergeo"
           }
          ],
          "scattergl": [
           {
            "marker": {
             "line": {
              "color": "#283442"
             }
            },
            "type": "scattergl"
           }
          ],
          "scattermap": [
           {
            "marker": {
             "colorbar": {
              "outlinewidth": 0,
              "ticks": ""
             }
            },
            "type": "scattermap"
           }
          ],
          "scattermapbox": [
           {
            "marker": {
             "colorbar": {
              "outlinewidth": 0,
              "ticks": ""
             }
            },
            "type": "scattermapbox"
           }
          ],
          "scatterpolar": [
           {
            "marker": {
             "colorbar": {
              "outlinewidth": 0,
              "ticks": ""
             }
            },
            "type": "scatterpolar"
           }
          ],
          "scatterpolargl": [
           {
            "marker": {
             "colorbar": {
              "outlinewidth": 0,
              "ticks": ""
             }
            },
            "type": "scatterpolargl"
           }
          ],
          "scatterternary": [
           {
            "marker": {
             "colorbar": {
              "outlinewidth": 0,
              "ticks": ""
             }
            },
            "type": "scatterternary"
           }
          ],
          "surface": [
           {
            "colorbar": {
             "outlinewidth": 0,
             "ticks": ""
            },
            "colorscale": [
             [
              0,
              "#0d0887"
             ],
             [
              0.1111111111111111,
              "#46039f"
             ],
             [
              0.2222222222222222,
              "#7201a8"
             ],
             [
              0.3333333333333333,
              "#9c179e"
             ],
             [
              0.4444444444444444,
              "#bd3786"
             ],
             [
              0.5555555555555556,
              "#d8576b"
             ],
             [
              0.6666666666666666,
              "#ed7953"
             ],
             [
              0.7777777777777778,
              "#fb9f3a"
             ],
             [
              0.8888888888888888,
              "#fdca26"
             ],
             [
              1,
              "#f0f921"
             ]
            ],
            "type": "surface"
           }
          ],
          "table": [
           {
            "cells": {
             "fill": {
              "color": "#506784"
             },
             "line": {
              "color": "rgb(17,17,17)"
             }
            },
            "header": {
             "fill": {
              "color": "#2a3f5f"
             },
             "line": {
              "color": "rgb(17,17,17)"
             }
            },
            "type": "table"
           }
          ]
         },
         "layout": {
          "annotationdefaults": {
           "arrowcolor": "#f2f5fa",
           "arrowhead": 0,
           "arrowwidth": 1
          },
          "autotypenumbers": "strict",
          "coloraxis": {
           "colorbar": {
            "outlinewidth": 0,
            "ticks": ""
           }
          },
          "colorscale": {
           "diverging": [
            [
             0,
             "#8e0152"
            ],
            [
             0.1,
             "#c51b7d"
            ],
            [
             0.2,
             "#de77ae"
            ],
            [
             0.3,
             "#f1b6da"
            ],
            [
             0.4,
             "#fde0ef"
            ],
            [
             0.5,
             "#f7f7f7"
            ],
            [
             0.6,
             "#e6f5d0"
            ],
            [
             0.7,
             "#b8e186"
            ],
            [
             0.8,
             "#7fbc41"
            ],
            [
             0.9,
             "#4d9221"
            ],
            [
             1,
             "#276419"
            ]
           ],
           "sequential": [
            [
             0,
             "#0d0887"
            ],
            [
             0.1111111111111111,
             "#46039f"
            ],
            [
             0.2222222222222222,
             "#7201a8"
            ],
            [
             0.3333333333333333,
             "#9c179e"
            ],
            [
             0.4444444444444444,
             "#bd3786"
            ],
            [
             0.5555555555555556,
             "#d8576b"
            ],
            [
             0.6666666666666666,
             "#ed7953"
            ],
            [
             0.7777777777777778,
             "#fb9f3a"
            ],
            [
             0.8888888888888888,
             "#fdca26"
            ],
            [
             1,
             "#f0f921"
            ]
           ],
           "sequentialminus": [
            [
             0,
             "#0d0887"
            ],
            [
             0.1111111111111111,
             "#46039f"
            ],
            [
             0.2222222222222222,
             "#7201a8"
            ],
            [
             0.3333333333333333,
             "#9c179e"
            ],
            [
             0.4444444444444444,
             "#bd3786"
            ],
            [
             0.5555555555555556,
             "#d8576b"
            ],
            [
             0.6666666666666666,
             "#ed7953"
            ],
            [
             0.7777777777777778,
             "#fb9f3a"
            ],
            [
             0.8888888888888888,
             "#fdca26"
            ],
            [
             1,
             "#f0f921"
            ]
           ]
          },
          "colorway": [
           "#636efa",
           "#EF553B",
           "#00cc96",
           "#ab63fa",
           "#FFA15A",
           "#19d3f3",
           "#FF6692",
           "#B6E880",
           "#FF97FF",
           "#FECB52"
          ],
          "font": {
           "color": "#f2f5fa"
          },
          "geo": {
           "bgcolor": "rgb(17,17,17)",
           "lakecolor": "rgb(17,17,17)",
           "landcolor": "rgb(17,17,17)",
           "showlakes": true,
           "showland": true,
           "subunitcolor": "#506784"
          },
          "hoverlabel": {
           "align": "left"
          },
          "hovermode": "closest",
          "mapbox": {
           "style": "dark"
          },
          "paper_bgcolor": "rgb(17,17,17)",
          "plot_bgcolor": "rgb(17,17,17)",
          "polar": {
           "angularaxis": {
            "gridcolor": "#506784",
            "linecolor": "#506784",
            "ticks": ""
           },
           "bgcolor": "rgb(17,17,17)",
           "radialaxis": {
            "gridcolor": "#506784",
            "linecolor": "#506784",
            "ticks": ""
           }
          },
          "scene": {
           "xaxis": {
            "backgroundcolor": "rgb(17,17,17)",
            "gridcolor": "#506784",
            "gridwidth": 2,
            "linecolor": "#506784",
            "showbackground": true,
            "ticks": "",
            "zerolinecolor": "#C8D4E3"
           },
           "yaxis": {
            "backgroundcolor": "rgb(17,17,17)",
            "gridcolor": "#506784",
            "gridwidth": 2,
            "linecolor": "#506784",
            "showbackground": true,
            "ticks": "",
            "zerolinecolor": "#C8D4E3"
           },
           "zaxis": {
            "backgroundcolor": "rgb(17,17,17)",
            "gridcolor": "#506784",
            "gridwidth": 2,
            "linecolor": "#506784",
            "showbackground": true,
            "ticks": "",
            "zerolinecolor": "#C8D4E3"
           }
          },
          "shapedefaults": {
           "line": {
            "color": "#f2f5fa"
           }
          },
          "sliderdefaults": {
           "bgcolor": "#C8D4E3",
           "bordercolor": "rgb(17,17,17)",
           "borderwidth": 1,
           "tickwidth": 0
          },
          "ternary": {
           "aaxis": {
            "gridcolor": "#506784",
            "linecolor": "#506784",
            "ticks": ""
           },
           "baxis": {
            "gridcolor": "#506784",
            "linecolor": "#506784",
            "ticks": ""
           },
           "bgcolor": "rgb(17,17,17)",
           "caxis": {
            "gridcolor": "#506784",
            "linecolor": "#506784",
            "ticks": ""
           }
          },
          "title": {
           "x": 0.05
          },
          "updatemenudefaults": {
           "bgcolor": "#506784",
           "borderwidth": 0
          },
          "xaxis": {
           "automargin": true,
           "gridcolor": "#283442",
           "linecolor": "#506784",
           "ticks": "",
           "title": {
            "standoff": 15
           },
           "zerolinecolor": "#283442",
           "zerolinewidth": 2
          },
          "yaxis": {
           "automargin": true,
           "gridcolor": "#283442",
           "linecolor": "#506784",
           "ticks": "",
           "title": {
            "standoff": 15
           },
           "zerolinecolor": "#283442",
           "zerolinewidth": 2
          }
         }
        },
        "title": {
         "text": "Power Consumption Over Time (Simulated Period: 900 min)"
        },
        "xaxis": {
         "anchor": "y",
         "domain": [
          0,
          1
         ],
         "range": [
          0,
          900
         ],
         "title": {
          "text": "Time (min)"
         }
        },
        "yaxis": {
         "anchor": "x",
         "domain": [
          0,
          1
         ],
         "rangemode": "tozero",
         "title": {
          "text": "Power Consumption (W)"
         }
        }
       }
      }
     },
     "metadata": {},
     "output_type": "display_data"
    }
   ],
   "source": [
    "from plotly.subplots import make_subplots\n",
    "\n",
    "fig = make_subplots(rows=1, cols=1)\n",
    "fig.layout.template = 'plotly_dark' #activate the dark theme, comment out for light theme if you want\n",
    "\n",
    "fig.add_trace(go.Scatter(x=t, y=power_consumption, name=\"Power Consumption ({})\".format(power_consumption.unit), line=dict(color=\"#EF553B\"), showlegend=False), row=1, col=1)\n",
    "\n",
    "fig.update_yaxes(title_text=\"Power Consumption ({})\".format(power_consumption.unit), rangemode=\"tozero\", row=1, col=1)\n",
    "\n",
    "fig.update_xaxes(range=[0, duration_in_min], row=1, col=1)\n",
    "fig.update_xaxes(title_text=\"Time ({})\".format(t.unit), range=[0, duration_in_min], row=1, col=1)\n",
    "\n",
    "fig.update_layout(title_text=\"Power Consumption Over Time (Simulated Period: {} min)\".format(duration_in_min),\n",
    "                  height=800)\n",
    "\n",
    "fig.show() #display figure"
   ]
  },
  {
   "cell_type": "markdown",
   "id": "f29c4c54-342b-499c-a3a3-08e3832f9cce",
   "metadata": {
    "tags": []
   },
   "source": [
    "## Power Generation\n",
    "(This is similar to section 10.6.3 in [chapter 10 \"Electrical Power Systems\" in Fortescue et al. (2011)](https://onlinelibrary-wiley-com.dbgw.lis.curtin.edu.au/doi/pdf/10.1002/9781119971009.ch10) on page 352.)\n",
    "\n",
    "First: calculate your average power consumption:"
   ]
  },
  {
   "cell_type": "code",
   "execution_count": 57,
   "id": "96b64cf9-7b63-4c53-a456-342235231fee",
   "metadata": {},
   "outputs": [
    {
     "name": "stdout",
     "output_type": "stream",
     "text": [
      "Average power consumption: p_avg = 335.7 W\n"
     ]
    }
   ],
   "source": [
    "p_avg = np.average(power_consumption)\n",
    "print(\"Average power consumption: p_avg = {:.1f}\".format(p_avg))\n",
    "\n",
    "p_solar_targ = p_avg\n"
   ]
  },
  {
   "cell_type": "markdown",
   "id": "9460a38e-8e75-4894-81d5-7f2e4049adf3",
   "metadata": {},
   "source": [
    "#### Solar Availability\n",
    "To do the next step we will need to know the availability of the generation source (in sunlight fraction for solar power):"
   ]
  },
  {
   "cell_type": "code",
   "execution_count": null,
   "id": "06bcde4f-e62c-434a-869e-456afbfcad67",
   "metadata": {
    "tags": []
   },
   "outputs": [
    {
     "name": "stdout",
     "output_type": "stream",
     "text": [
      "Availabity of generation : frac_gen_available = 92%\n"
     ]
    }
   ],
   "source": [
    "lattitude_offset = 20 #max lattitude error of the spacecraft\n",
    "\n",
    "lunar_day = 29.53*u.day #lunar day in earth days\n",
    "time_angle = 360/lunar_day.to(u.hour).value #degrees per hour of the lunar day\n",
    "\n",
    "hours_from_noon = 20 #time that mission will be offset from noon, in hours\n",
    "\n",
    "time_of_day_offset = time_angle*hours_from_noon #time of day offset of the spacecraft, 0 degrees means sun is overhead (12:00 local time)\n",
    "\n",
    "total_offset = np.sqrt(lattitude_offset**2 + time_of_day_offset**2) #rough approximation of the angle between the spacecraft and the sun, in degrees\n",
    "#accuracy is higher at smaller angles\n",
    "\n",
    "\n",
    "frac_gen_available = np.cos(np.deg2rad(total_offset)) #fraction of time the panels are generating power\n",
    "#spacrecrafts mission duration fits well within a whole lunar day, so we pick best time to run payload\n",
    "\n",
    "print(\"Availabity of generation : frac_gen_available = {:.0%}\".format(frac_gen_available))"
   ]
  },
  {
   "cell_type": "markdown",
   "id": "8614f89d-0e52-4535-815d-35ccd8bc9722",
   "metadata": {},
   "source": [
    "Then make an initial estimate of the required power generation by dividing by the availability of the generation source.\n",
    "\n",
    "Keep in mind that this initial guess doesn't take into account different factors degrading the generation output such as temperature or radiation dose effects (damage) over time or inefficiencies in the system."
   ]
  },
  {
   "cell_type": "code",
   "execution_count": 59,
   "id": "f16af3a7-3354-4bc0-80e2-4a4433da3908",
   "metadata": {
    "tags": []
   },
   "outputs": [
    {
     "name": "stdout",
     "output_type": "stream",
     "text": [
      "Initial estimate of power generation capacity : p_gen_initial_estimate = 363 W\n"
     ]
    }
   ],
   "source": [
    "p_gen_initial_estimate = p_solar_targ/frac_gen_available\n",
    "print(\"Initial estimate of power generation capacity : p_gen_initial_estimate = {:.0f}\".format(p_gen_initial_estimate))"
   ]
  },
  {
   "cell_type": "markdown",
   "id": "c6d76f27-e8be-417d-8f32-548311471de1",
   "metadata": {
    "tags": []
   },
   "source": [
    "### Cell Selection\n",
    "Select an [Azure Space](http://www.azurspace.com/index.php/en/) or [Rocket Lab SolAero](https://www.rocketlabusa.com/space-systems/solar/space-solar-cellscics/) **space** solar cell and calculate the **active** cell area required to deliver this power generation capcity.\n",
    "\n",
    "Assume J_S = 1371 W/m$^2$ and that the panels remain normal to the Sun vector at all times.\n",
    "\n",
    "Update the comment to include the cell assembly type and the link to the datasheet.\n",
    "\n",
    "Print the result in centimetres squared."
   ]
  },
  {
   "cell_type": "code",
   "execution_count": 60,
   "id": "0344d104-5050-44ae-a3c1-64d3db50597b",
   "metadata": {
    "tags": []
   },
   "outputs": [
    {
     "name": "stdout",
     "output_type": "stream",
     "text": [
      "Initial estimate cell active area: initial_estimate_cell_area = 8771 cm2\n"
     ]
    }
   ],
   "source": [
    "# Update Solar radiaiton flux if not around 1 AU from the Sun\n",
    "J_S = 1371*u.W/u.m**2 #solar radiation flux from Fortescue et al. (2011) page 359\n",
    "eff_cell = 30.2/100 #<cell assembly type>, source: <cell assembly datasheet>\n",
    "\n",
    "initial_estimate_cell_area = p_gen_initial_estimate/J_S/eff_cell\n",
    "print(\"Initial estimate cell active area: initial_estimate_cell_area = {:.0f}\".format(initial_estimate_cell_area.to(u.cm*u.cm)))"
   ]
  },
  {
   "cell_type": "markdown",
   "id": "a912d870-857e-403a-8623-7624892d04d1",
   "metadata": {},
   "source": [
    "Calculate the number of cell assemblies from the cell area if given in the datasheet. If not provided, you could assume cell area is 30.18 cm$^2$."
   ]
  },
  {
   "cell_type": "code",
   "execution_count": 61,
   "id": "98171d6f-6bc6-4069-8c92-fd7ea65f74f9",
   "metadata": {
    "tags": []
   },
   "outputs": [
    {
     "name": "stdout",
     "output_type": "stream",
     "text": [
      "Initial estimate number of cells: inital_estimate_n_cells = 275\n"
     ]
    }
   ],
   "source": [
    "area_per_cell = 8*4*u.cm**2 #<cell assembly type>\n",
    "\n",
    "#calculate number of cells, rounding up using the np.ceil() funciton\n",
    "inital_estimate_n_cells =  np.ceil((initial_estimate_cell_area/area_per_cell).to(u.dimensionless_unscaled))\n",
    "\n",
    "print(\"Initial estimate number of cells: inital_estimate_n_cells = {:.0f}\".format(inital_estimate_n_cells))"
   ]
  },
  {
   "cell_type": "markdown",
   "id": "5e378ad5-297e-46ca-b399-660c5f29e35b",
   "metadata": {},
   "source": [
    "### Calculate Losses\n",
    "\n",
    "Assume battery charging is 90% efficient.\n",
    "\n",
    "Assume degradation due to temperature rise is approximately 0.2 % per °C above room temperature (assumption is roughly based on [Rocket Lab SolAero ZTJ datasheet](https://www.rocketlabusa.com/assets/Uploads/RL-SolAero-Data-Sheet-ZTJ.pdf)). If you haven't done a thermal balance yet assume your cells are around 70 °C in an Earth orbit (although you should do a thermal balance calculation ASAP).\n",
    "\n",
    "Assume a degradation due to radiation based on [Table 6.7 from Brown (2002) p. 339](https://ebookcentral.proquest.com/lib/curtin/reader.action?docID=3111499&ppg=352) and your mission parameters."
   ]
  },
  {
   "cell_type": "code",
   "execution_count": 62,
   "id": "a84f9e27-701f-4be9-895d-2dade4b198fb",
   "metadata": {
    "tags": []
   },
   "outputs": [],
   "source": [
    "eff_charging = 90/100 #90% efficient solar tracking and cell charging\n",
    "radiation_degradation_loss = 4/100 #<insert mission information>, based on Brown (2002) p. 339\n",
    "temperature_loss = 17/100 #assumption rougly based on figure 6.18 on page 337 of Brown (2002)"
   ]
  },
  {
   "cell_type": "markdown",
   "id": "e3abe611-616d-4f69-8855-8a948697d586",
   "metadata": {},
   "source": [
    "### Determine Cell Area\n",
    "\n",
    "Now pick your actual cell area or number of cells which should be informed by your initial estimates. (It should be larger, however.)\n",
    "\n",
    "If you want, you can just pick you initial estimate for now, and then come back and refine it after the initial run of the model. An iterative approach like this is reasonable."
   ]
  },
  {
   "cell_type": "code",
   "execution_count": 63,
   "id": "2de08735-c801-402d-a4e2-b11d91747b31",
   "metadata": {
    "tags": []
   },
   "outputs": [
    {
     "name": "stdout",
     "output_type": "stream",
     "text": [
      "1.76 m2\n"
     ]
    }
   ],
   "source": [
    "safety_factor_solar = 2\n",
    "\n",
    "n_cells = np.round(inital_estimate_n_cells*safety_factor_solar)  #cells for space craft\n",
    "cell_area = n_cells * area_per_cell\n",
    "print(cell_area.to(u.m**2))"
   ]
  },
  {
   "cell_type": "markdown",
   "id": "880c9620-4afe-4c63-a031-92cefbcc6da9",
   "metadata": {},
   "source": [
    "### Calculate the Power Generation Over Time\n",
    "\n",
    "Fill in the missing power generation capacity expression accounting for the losses below and then run the code.\n",
    "\n",
    "Note that the expression for efficiencies will be different than the expression for losses."
   ]
  },
  {
   "cell_type": "code",
   "execution_count": 64,
   "id": "d1a73472-10fa-4dd0-8340-3a2a1ebdefc9",
   "metadata": {
    "tags": []
   },
   "outputs": [
    {
     "name": "stdout",
     "output_type": "stream",
     "text": [
      "Power generation with losses: p_gen_capacity = 522.6 W\n"
     ]
    }
   ],
   "source": [
    "# calculate your power generation capacity with losses\n",
    "p_gen_capacity = (J_S*eff_cell*cell_area*(1-radiation_degradation_loss)*(1-temperature_loss)*eff_charging).to(u.W)\n",
    "print(\"Power generation with losses: p_gen_capacity = {:.1f}\".format(p_gen_capacity))"
   ]
  },
  {
   "cell_type": "markdown",
   "id": "f85c60e9-c45b-4986-aa6b-86bf8b56555f",
   "metadata": {},
   "source": [
    "Now calculate your power generation over time array by multiplying the capacity (scalar) times the availability (array)."
   ]
  },
  {
   "cell_type": "code",
   "execution_count": 65,
   "id": "98beef7f-48e4-4f96-88ce-38b266b2d94a",
   "metadata": {
    "tags": []
   },
   "outputs": [
    {
     "name": "stdout",
     "output_type": "stream",
     "text": [
      "Power generation: power_generation = 483.0 W\n"
     ]
    }
   ],
   "source": [
    "power_generation = p_gen_capacity*frac_gen_available\n",
    "print(\"Power generation: power_generation = {:.1f}\".format(power_generation.to(u.W)))\n",
    "\n",
    "power_generation_array = power_generation * np.ones(t.shape)"
   ]
  },
  {
   "cell_type": "markdown",
   "id": "77eba216-d41f-47ca-be53-2163fa4405dd",
   "metadata": {},
   "source": [
    "## Power Modelling of Nominal Operations\n",
    "For now we are going to assume the batteries start empty and you have a very large battery capacity.\n",
    "\n",
    "You should come back and improve these assumptions as you progress the design of your space system's electrical power system.\n",
    "\n",
    "Fill in the missing expression to calculate the next energy storage level (it's a numerical integration of power over time) and then run the code below.\n",
    "\n",
    "Also fill in the missing part of the expression to limit the maximum level of stored energy to the battery pack capacity."
   ]
  },
  {
   "cell_type": "code",
   "execution_count": 66,
   "id": "b5753714-3b33-47e8-ac2e-9d6fd2e2e6cb",
   "metadata": {
    "tags": []
   },
   "outputs": [
    {
     "name": "stdout",
     "output_type": "stream",
     "text": [
      "Energy stored after one orbit: 2000.00 WH\n",
      "Minimum storage state: 390.16 WH\n",
      "Maximum storage state: 2000.00 WH\n"
     ]
    },
    {
     "data": {
      "application/vnd.plotly.v1+json": {
       "config": {
        "plotlyServerURL": "https://plot.ly"
       },
       "data": [
        {
         "line": {
          "color": "#636EFA"
         },
         "name": "Power Generation (W)",
         "showlegend": false,
         "type": "scatter",
         "x": {
          "bdata": "AAAAAAAAAAAAAAAAAAAUQAAAAAAAACRAAAAAAAAALkAAAAAAAAA0QAAAAAAAADlAAAAAAAAAPkAAAAAAAIBBQAAAAAAAAERAAAAAAACARkAAAAAAAABJQAAAAAAAgEtAAAAAAAAATkAAAAAAAEBQQAAAAAAAgFFAAAAAAADAUkAAAAAAAABUQAAAAAAAQFVAAAAAAACAVkAAAAAAAMBXQAAAAAAAAFlAAAAAAABAWkAAAAAAAIBbQAAAAAAAwFxAAAAAAAAAXkAAAAAAAEBfQAAAAAAAQGBAAAAAAADgYEAAAAAAAIBhQAAAAAAAIGJAAAAAAADAYkAAAAAAAGBjQAAAAAAAAGRAAAAAAACgZEAAAAAAAEBlQAAAAAAA4GVAAAAAAACAZkAAAAAAACBnQAAAAAAAwGdAAAAAAABgaEAAAAAAAABpQAAAAAAAoGlAAAAAAABAakAAAAAAAOBqQAAAAAAAgGtAAAAAAAAgbEAAAAAAAMBsQAAAAAAAYG1AAAAAAAAAbkAAAAAAAKBuQAAAAAAAQG9AAAAAAADgb0AAAAAAAEBwQAAAAAAAkHBAAAAAAADgcEAAAAAAADBxQAAAAAAAgHFAAAAAAADQcUAAAAAAACByQAAAAAAAcHJAAAAAAADAckAAAAAAABBzQAAAAAAAYHNAAAAAAACwc0AAAAAAAAB0QAAAAAAAUHRAAAAAAACgdEAAAAAAAPB0QAAAAAAAQHVAAAAAAACQdUAAAAAAAOB1QAAAAAAAMHZAAAAAAACAdkAAAAAAANB2QAAAAAAAIHdAAAAAAABwd0AAAAAAAMB3QAAAAAAAEHhAAAAAAABgeEAAAAAAALB4QAAAAAAAAHlAAAAAAABQeUAAAAAAAKB5QAAAAAAA8HlAAAAAAABAekAAAAAAAJB6QAAAAAAA4HpAAAAAAAAwe0AAAAAAAIB7QAAAAAAA0HtAAAAAAAAgfEAAAAAAAHB8QAAAAAAAwHxAAAAAAAAQfUAAAAAAAGB9QAAAAAAAsH1AAAAAAAAAfkAAAAAAAFB+QAAAAAAAoH5AAAAAAADwfkAAAAAAAEB/QAAAAAAAkH9AAAAAAADgf0AAAAAAABiAQAAAAAAAQIBAAAAAAABogEAAAAAAAJCAQAAAAAAAuIBAAAAAAADggEAAAAAAAAiBQAAAAAAAMIFAAAAAAABYgUAAAAAAAICBQAAAAAAAqIFAAAAAAADQgUAAAAAAAPiBQAAAAAAAIIJAAAAAAABIgkAAAAAAAHCCQAAAAAAAmIJAAAAAAADAgkAAAAAAAOiCQAAAAAAAEINAAAAAAAA4g0AAAAAAAGCDQAAAAAAAiINAAAAAAACwg0AAAAAAANiDQAAAAAAAAIRAAAAAAAAohEAAAAAAAFCEQAAAAAAAeIRAAAAAAACghEAAAAAAAMiEQAAAAAAA8IRAAAAAAAAYhUAAAAAAAECFQAAAAAAAaIVAAAAAAACQhUAAAAAAALiFQAAAAAAA4IVAAAAAAAAIhkAAAAAAADCGQAAAAAAAWIZAAAAAAACAhkAAAAAAAKiGQAAAAAAA0IZAAAAAAAD4hkAAAAAAACCHQAAAAAAASIdAAAAAAABwh0AAAAAAAJiHQAAAAAAAwIdAAAAAAADoh0AAAAAAABCIQAAAAAAAOIhAAAAAAABgiEAAAAAAAIiIQAAAAAAAsIhAAAAAAADYiEAAAAAAAACJQAAAAAAAKIlAAAAAAABQiUAAAAAAAHiJQAAAAAAAoIlAAAAAAADIiUAAAAAAAPCJQAAAAAAAGIpAAAAAAABAikAAAAAAAGiKQAAAAAAAkIpAAAAAAAC4ikAAAAAAAOCKQAAAAAAACItAAAAAAAAwi0AAAAAAAFiLQAAAAAAAgItAAAAAAACoi0AAAAAAANCLQAAAAAAA+ItA",
          "dtype": "f8"
         },
         "xaxis": "x",
         "y": {
          "bdata": "Xdo3aYUwfkBd2jdphTB+QF3aN2mFMH5AXdo3aYUwfkBd2jdphTB+QF3aN2mFMH5AXdo3aYUwfkBd2jdphTB+QF3aN2mFMH5AXdo3aYUwfkBd2jdphTB+QF3aN2mFMH5AXdo3aYUwfkBd2jdphTB+QF3aN2mFMH5AXdo3aYUwfkBd2jdphTB+QF3aN2mFMH5AXdo3aYUwfkBd2jdphTB+QF3aN2mFMH5AXdo3aYUwfkBd2jdphTB+QF3aN2mFMH5AXdo3aYUwfkBd2jdphTB+QF3aN2mFMH5AXdo3aYUwfkBd2jdphTB+QF3aN2mFMH5AXdo3aYUwfkBd2jdphTB+QF3aN2mFMH5AXdo3aYUwfkBd2jdphTB+QF3aN2mFMH5AXdo3aYUwfkBd2jdphTB+QF3aN2mFMH5AXdo3aYUwfkBd2jdphTB+QF3aN2mFMH5AXdo3aYUwfkBd2jdphTB+QF3aN2mFMH5AXdo3aYUwfkBd2jdphTB+QF3aN2mFMH5AXdo3aYUwfkBd2jdphTB+QF3aN2mFMH5AXdo3aYUwfkBd2jdphTB+QF3aN2mFMH5AXdo3aYUwfkBd2jdphTB+QF3aN2mFMH5AXdo3aYUwfkBd2jdphTB+QF3aN2mFMH5AXdo3aYUwfkBd2jdphTB+QF3aN2mFMH5AXdo3aYUwfkBd2jdphTB+QF3aN2mFMH5AXdo3aYUwfkBd2jdphTB+QF3aN2mFMH5AXdo3aYUwfkBd2jdphTB+QF3aN2mFMH5AXdo3aYUwfkBd2jdphTB+QF3aN2mFMH5AXdo3aYUwfkBd2jdphTB+QF3aN2mFMH5AXdo3aYUwfkBd2jdphTB+QF3aN2mFMH5AXdo3aYUwfkBd2jdphTB+QF3aN2mFMH5AXdo3aYUwfkBd2jdphTB+QF3aN2mFMH5AXdo3aYUwfkBd2jdphTB+QF3aN2mFMH5AXdo3aYUwfkBd2jdphTB+QF3aN2mFMH5AXdo3aYUwfkBd2jdphTB+QF3aN2mFMH5AXdo3aYUwfkBd2jdphTB+QF3aN2mFMH5AXdo3aYUwfkBd2jdphTB+QF3aN2mFMH5AXdo3aYUwfkBd2jdphTB+QF3aN2mFMH5AXdo3aYUwfkBd2jdphTB+QF3aN2mFMH5AXdo3aYUwfkBd2jdphTB+QF3aN2mFMH5AXdo3aYUwfkBd2jdphTB+QF3aN2mFMH5AXdo3aYUwfkBd2jdphTB+QF3aN2mFMH5AXdo3aYUwfkBd2jdphTB+QF3aN2mFMH5AXdo3aYUwfkBd2jdphTB+QF3aN2mFMH5AXdo3aYUwfkBd2jdphTB+QF3aN2mFMH5AXdo3aYUwfkBd2jdphTB+QF3aN2mFMH5AXdo3aYUwfkBd2jdphTB+QF3aN2mFMH5AXdo3aYUwfkBd2jdphTB+QF3aN2mFMH5AXdo3aYUwfkBd2jdphTB+QF3aN2mFMH5AXdo3aYUwfkBd2jdphTB+QF3aN2mFMH5AXdo3aYUwfkBd2jdphTB+QF3aN2mFMH5AXdo3aYUwfkBd2jdphTB+QF3aN2mFMH5AXdo3aYUwfkBd2jdphTB+QF3aN2mFMH5AXdo3aYUwfkBd2jdphTB+QF3aN2mFMH5AXdo3aYUwfkBd2jdphTB+QF3aN2mFMH5AXdo3aYUwfkBd2jdphTB+QF3aN2mFMH5AXdo3aYUwfkBd2jdphTB+QF3aN2mFMH5AXdo3aYUwfkBd2jdphTB+QF3aN2mFMH5AXdo3aYUwfkBd2jdphTB+QF3aN2mFMH5AXdo3aYUwfkBd2jdphTB+QF3aN2mFMH5AXdo3aYUwfkBd2jdphTB+QF3aN2mFMH5AXdo3aYUwfkBd2jdphTB+QF3aN2mFMH5AXdo3aYUwfkBd2jdphTB+QF3aN2mFMH5A",
          "dtype": "f8"
         },
         "yaxis": "y"
        },
        {
         "line": {
          "color": "#EF553B"
         },
         "name": "Power Consumption (W)",
         "showlegend": false,
         "type": "scatter",
         "x": {
          "bdata": "AAAAAAAAAAAAAAAAAAAUQAAAAAAAACRAAAAAAAAALkAAAAAAAAA0QAAAAAAAADlAAAAAAAAAPkAAAAAAAIBBQAAAAAAAAERAAAAAAACARkAAAAAAAABJQAAAAAAAgEtAAAAAAAAATkAAAAAAAEBQQAAAAAAAgFFAAAAAAADAUkAAAAAAAABUQAAAAAAAQFVAAAAAAACAVkAAAAAAAMBXQAAAAAAAAFlAAAAAAABAWkAAAAAAAIBbQAAAAAAAwFxAAAAAAAAAXkAAAAAAAEBfQAAAAAAAQGBAAAAAAADgYEAAAAAAAIBhQAAAAAAAIGJAAAAAAADAYkAAAAAAAGBjQAAAAAAAAGRAAAAAAACgZEAAAAAAAEBlQAAAAAAA4GVAAAAAAACAZkAAAAAAACBnQAAAAAAAwGdAAAAAAABgaEAAAAAAAABpQAAAAAAAoGlAAAAAAABAakAAAAAAAOBqQAAAAAAAgGtAAAAAAAAgbEAAAAAAAMBsQAAAAAAAYG1AAAAAAAAAbkAAAAAAAKBuQAAAAAAAQG9AAAAAAADgb0AAAAAAAEBwQAAAAAAAkHBAAAAAAADgcEAAAAAAADBxQAAAAAAAgHFAAAAAAADQcUAAAAAAACByQAAAAAAAcHJAAAAAAADAckAAAAAAABBzQAAAAAAAYHNAAAAAAACwc0AAAAAAAAB0QAAAAAAAUHRAAAAAAACgdEAAAAAAAPB0QAAAAAAAQHVAAAAAAACQdUAAAAAAAOB1QAAAAAAAMHZAAAAAAACAdkAAAAAAANB2QAAAAAAAIHdAAAAAAABwd0AAAAAAAMB3QAAAAAAAEHhAAAAAAABgeEAAAAAAALB4QAAAAAAAAHlAAAAAAABQeUAAAAAAAKB5QAAAAAAA8HlAAAAAAABAekAAAAAAAJB6QAAAAAAA4HpAAAAAAAAwe0AAAAAAAIB7QAAAAAAA0HtAAAAAAAAgfEAAAAAAAHB8QAAAAAAAwHxAAAAAAAAQfUAAAAAAAGB9QAAAAAAAsH1AAAAAAAAAfkAAAAAAAFB+QAAAAAAAoH5AAAAAAADwfkAAAAAAAEB/QAAAAAAAkH9AAAAAAADgf0AAAAAAABiAQAAAAAAAQIBAAAAAAABogEAAAAAAAJCAQAAAAAAAuIBAAAAAAADggEAAAAAAAAiBQAAAAAAAMIFAAAAAAABYgUAAAAAAAICBQAAAAAAAqIFAAAAAAADQgUAAAAAAAPiBQAAAAAAAIIJAAAAAAABIgkAAAAAAAHCCQAAAAAAAmIJAAAAAAADAgkAAAAAAAOiCQAAAAAAAEINAAAAAAAA4g0AAAAAAAGCDQAAAAAAAiINAAAAAAACwg0AAAAAAANiDQAAAAAAAAIRAAAAAAAAohEAAAAAAAFCEQAAAAAAAeIRAAAAAAACghEAAAAAAAMiEQAAAAAAA8IRAAAAAAAAYhUAAAAAAAECFQAAAAAAAaIVAAAAAAACQhUAAAAAAALiFQAAAAAAA4IVAAAAAAAAIhkAAAAAAADCGQAAAAAAAWIZAAAAAAACAhkAAAAAAAKiGQAAAAAAA0IZAAAAAAAD4hkAAAAAAACCHQAAAAAAASIdAAAAAAABwh0AAAAAAAJiHQAAAAAAAwIdAAAAAAADoh0AAAAAAABCIQAAAAAAAOIhAAAAAAABgiEAAAAAAAIiIQAAAAAAAsIhAAAAAAADYiEAAAAAAAACJQAAAAAAAKIlAAAAAAABQiUAAAAAAAHiJQAAAAAAAoIlAAAAAAADIiUAAAAAAAPCJQAAAAAAAGIpAAAAAAABAikAAAAAAAGiKQAAAAAAAkIpAAAAAAAC4ikAAAAAAAOCKQAAAAAAACItAAAAAAAAwi0AAAAAAAFiLQAAAAAAAgItAAAAAAACoi0AAAAAAANCLQAAAAAAA+ItA",
          "dtype": "f8"
         },
         "xaxis": "x2",
         "y": {
          "bdata": "AAAAAAAATkAAAAAAAEB/QAAAAAAAQH9AAAAAAABAf0AAAAAAAEB/QAAAAAAAQH9AAAAAAABAf0AAAAAAAABOQAAAAAAAAE5AAAAAAAAATkAAAAAAAABOQAAAAAAAAE5AAAAAAAAoiUAAAAAAACiJQAAAAAAAKIlAAAAAAAAoiUAAAAAAACiJQAAAAAAAKIlAAAAAAAAoiUAAAAAAACiJQAAAAAAAKIlAAAAAAAAoiUAAAAAAACiJQAAAAAAAKIlAAAAAAAAoiUAAAAAAACiJQAAAAAAAKIlAAAAAAAAoiUAAAAAAACiJQAAAAAAAKIlAAAAAAAAoiUAAAAAAACiJQAAAAAAAKIlAAAAAAAAoiUAAAAAAACiJQAAAAAAAKIlAAAAAAAAoiUAAAAAAACiJQAAAAAAAKIlAAAAAAAAoiUAAAAAAACiJQAAAAAAAKIlAAAAAAAAoiUAAAAAAACiJQAAAAAAAKIlAAAAAAAAoiUAAAAAAACiJQAAAAAAAKIlAAAAAAAAoiUAAAAAAACiJQAAAAAAAKIlAAAAAAAAoiUAAAAAAACiJQAAAAAAAKIlAAAAAAAAoiUAAAAAAACiJQAAAAAAAKIlAAAAAAAAoiUAAAAAAACiJQAAAAAAAKIlAAAAAAAAoiUAAAAAAACiJQAAAAAAAKIlAAAAAAAAoiUAAAAAAACiJQAAAAAAAKIlAAAAAAAAoiUAAAAAAACiJQAAAAAAAKIlAAAAAAAAoiUAAAAAAACiJQAAAAAAAKIlAAAAAAABAUEAAAAAAAEBQQAAAAAAAQFBAAAAAAABAUEAAAAAAAEBQQAAAAAAAQFBAAAAAAABAUEAAAAAAAEBQQAAAAAAAQFBAAAAAAABAUEAAAAAAAEBQQAAAAAAAQFBAAAAAAABAUEAAAAAAAEBQQAAAAAAAQFBAAAAAAABAUEAAAAAAAEBQQAAAAAAAQFBAAAAAAABAUEAAAAAAAEBQQAAAAAAAQFBAAAAAAABAUEAAAAAAAEBQQAAAAAAAQFBAAAAAAABAUEAAAAAAAEBQQAAAAAAAQFBAAAAAAABAUEAAAAAAAEBQQAAAAAAAQFBAAAAAAABAUEAAAAAAAEBQQAAAAAAAQFBAAAAAAABAUEAAAAAAAEBQQAAAAAAAQFBAAAAAAAAATkAAAAAAAABOQAAAAAAAAE5AAAAAAAAATkAAAAAAAGBtQAAAAAAAYG1AAAAAAABgbUAAAAAAAGBtQAAAAAAAYG1AAAAAAABgbUAAAAAAAGBtQAAAAAAAYG1AAAAAAABgbUAAAAAAAGBtQAAAAAAAYG1AAAAAAABgbUAAAAAAAABOQAAAAAAAAE5AAAAAAAAATkAAAAAAAABOQAAAAAAAAE5AAAAAAAAATkAAAAAAAABOQAAAAAAAAE5AAAAAAAAATkAAAAAAAABOQAAAAAAAAE5AAAAAAAAATkAAAAAAAABOQAAAAAAAAE5AAAAAAAAATkAAAAAAAABOQAAAAAAAAE5AAAAAAAAATkAAAAAAAABOQAAAAAAAAE5AAAAAAAAATkAAAAAAAABOQAAAAAAAAE5AAAAAAAAATkAAAAAAAABOQAAAAAAAAE5AAAAAAAAATkAAAAAAAABOQAAAAAAAAE5AAAAAAAAATkAAAAAAAABOQAAAAAAAAE5AAAAAAAAATkAAAAAAAABOQAAAAAAAAE5AAAAAAAAATkAAAAAAAABOQAAAAAAAAE5AAAAAAAAATkAAAAAAAABOQAAAAAAAAE5AAAAAAAAATkAAAAAAAABOQAAAAAAAAE5AAAAAAAAATkAAAAAAAABOQAAAAAAAAE5AAAAAAAAATkAAAAAAAABOQAAAAAAAAE5AAAAAAAAATkAAAAAAAABOQAAAAAAAAE5AAAAAAAAATkAAAAAAAABOQAAAAAAAAE5A",
          "dtype": "f8"
         },
         "yaxis": "y2"
        },
        {
         "line": {
          "color": "#00CC96"
         },
         "name": "Energy Stored (WH)",
         "showlegend": false,
         "type": "scatter",
         "x": {
          "bdata": "AAAAAAAAAAAAAAAAAAAUQAAAAAAAACRAAAAAAAAALkAAAAAAAAA0QAAAAAAAADlAAAAAAAAAPkAAAAAAAIBBQAAAAAAAAERAAAAAAACARkAAAAAAAABJQAAAAAAAgEtAAAAAAAAATkAAAAAAAEBQQAAAAAAAgFFAAAAAAADAUkAAAAAAAABUQAAAAAAAQFVAAAAAAACAVkAAAAAAAMBXQAAAAAAAAFlAAAAAAABAWkAAAAAAAIBbQAAAAAAAwFxAAAAAAAAAXkAAAAAAAEBfQAAAAAAAQGBAAAAAAADgYEAAAAAAAIBhQAAAAAAAIGJAAAAAAADAYkAAAAAAAGBjQAAAAAAAAGRAAAAAAACgZEAAAAAAAEBlQAAAAAAA4GVAAAAAAACAZkAAAAAAACBnQAAAAAAAwGdAAAAAAABgaEAAAAAAAABpQAAAAAAAoGlAAAAAAABAakAAAAAAAOBqQAAAAAAAgGtAAAAAAAAgbEAAAAAAAMBsQAAAAAAAYG1AAAAAAAAAbkAAAAAAAKBuQAAAAAAAQG9AAAAAAADgb0AAAAAAAEBwQAAAAAAAkHBAAAAAAADgcEAAAAAAADBxQAAAAAAAgHFAAAAAAADQcUAAAAAAACByQAAAAAAAcHJAAAAAAADAckAAAAAAABBzQAAAAAAAYHNAAAAAAACwc0AAAAAAAAB0QAAAAAAAUHRAAAAAAACgdEAAAAAAAPB0QAAAAAAAQHVAAAAAAACQdUAAAAAAAOB1QAAAAAAAMHZAAAAAAACAdkAAAAAAANB2QAAAAAAAIHdAAAAAAABwd0AAAAAAAMB3QAAAAAAAEHhAAAAAAABgeEAAAAAAALB4QAAAAAAAAHlAAAAAAABQeUAAAAAAAKB5QAAAAAAA8HlAAAAAAABAekAAAAAAAJB6QAAAAAAA4HpAAAAAAAAwe0AAAAAAAIB7QAAAAAAA0HtAAAAAAAAgfEAAAAAAAHB8QAAAAAAAwHxAAAAAAAAQfUAAAAAAAGB9QAAAAAAAsH1AAAAAAAAAfkAAAAAAAFB+QAAAAAAAoH5AAAAAAADwfkAAAAAAAEB/QAAAAAAAkH9AAAAAAADgf0AAAAAAABiAQAAAAAAAQIBAAAAAAABogEAAAAAAAJCAQAAAAAAAuIBAAAAAAADggEAAAAAAAAiBQAAAAAAAMIFAAAAAAABYgUAAAAAAAICBQAAAAAAAqIFAAAAAAADQgUAAAAAAAPiBQAAAAAAAIIJAAAAAAABIgkAAAAAAAHCCQAAAAAAAmIJAAAAAAADAgkAAAAAAAOiCQAAAAAAAEINAAAAAAAA4g0AAAAAAAGCDQAAAAAAAiINAAAAAAACwg0AAAAAAANiDQAAAAAAAAIRAAAAAAAAohEAAAAAAAFCEQAAAAAAAeIRAAAAAAACghEAAAAAAAMiEQAAAAAAA8IRAAAAAAAAYhUAAAAAAAECFQAAAAAAAaIVAAAAAAACQhUAAAAAAALiFQAAAAAAA4IVAAAAAAAAIhkAAAAAAADCGQAAAAAAAWIZAAAAAAACAhkAAAAAAAKiGQAAAAAAA0IZAAAAAAAD4hkAAAAAAACCHQAAAAAAASIdAAAAAAABwh0AAAAAAAJiHQAAAAAAAwIdAAAAAAADoh0AAAAAAABCIQAAAAAAAOIhAAAAAAABgiEAAAAAAAIiIQAAAAAAAsIhAAAAAAADYiEAAAAAAAACJQAAAAAAAKIlAAAAAAABQiUAAAAAAAHiJQAAAAAAAoIlAAAAAAADIiUAAAAAAAPCJQAAAAAAAGIpAAAAAAABAikAAAAAAAGiKQAAAAAAAkIpAAAAAAAC4ikAAAAAAAOCKQAAAAAAACItAAAAAAAAwi0AAAAAAAFiLQAAAAAAAgItAAAAAAACoi0AAAAAAANCLQAAAAAAA+ItA",
          "dtype": "f8"
         },
         "xaxis": "x3",
         "y": {
          "bdata": "AAAAAABAn0CN1NscWDqfQBqptzmwNJ9Ap32TVggvn0A0Um9zYCmfQMEmS5C4I59ATvsmrRAen0AAAAAAAECfQAAAAAAAQJ9AAAAAAABAn0AAAAAAAECfQAAAAAAAQJ9A4ikxcq3UnkDEU2LkWmmeQKZ9k1YI/p1AiKfEyLWSnUBq0fU6YyedQEz7Jq0QvJxALiVYH75QnEAQT4mRa+WbQPJ4ugMZeptA1KLrdcYOm0C2zBzoc6OaQJj2TVohOJpAeiB/zM7MmUBcSrA+fGGZQD504bAp9phAIJ4SI9eKmEACyEOVhB+YQOTxdAcytJdAxhumed9Il0CoRdfrjN2WQIpvCF46cpZAbJk50OcGlkBOw2pClZuVQDDtm7RCMJVAEhfNJvDElED0QP6YnVmUQNZqLwtL7pNAuJRgffiCk0CavpHvpReTQHzowmFTrJJAXhL00wBBkkBAPCVGrtWRQCJmVrhbapFABJCHKgn/kEDmubictpOQQMjj6Q5kKJBAVBs2AiN6j0AYb5jmfaOOQNzC+srYzI1AoBZdrzP2jEBkar+Tjh+MQCi+IXjpSItA7BGEXERyikCwZeZAn5uJQHS5SCX6xIhAOA2rCVXuh0D8YA3urxeHQMC0b9IKQYZAhAjStmVqhUBIXDSbwJOEQAywln8bvYNA0AP5Y3bmgkCUV1tI0Q+CQFirvSwsOYFAHP8fEYdigEDApQTrwxd/QEhNybN5an1A0PSNfC+9e0BYnFJF5Q96QOBDFw6bYnhAEpaGgfuPekBE6PX0W718QHY6ZWi86n5AVEbqbQ6MgEBt76GnvqKBQIaYWeFuuYJAn0ERGx/Qg0C46shUz+aEQNGTgI5//YVA6jw4yC8Uh0AD5u8B4CqIQByPpzuQQYlANThfdUBYikBO4Rav8G6LQGeKzuighYxAgDOGIlGcjUCZ3D1cAbOOQLKF9ZWxyY9AZpfW5zBwkEDza7IEifuQQIBAjiHhhpFADRVqPjkSkkCa6UVbkZ2SQCe+IXjpKJNAtJL9lEG0k0BBZ9mxmT+UQM47tc7xypRAWxCR60lWlUDo5GwIouGVQHW5SCX6bJZAAo4kQlL4lkCPYgBfqoOXQBw33HsCD5hAqQu4mFqamEA24JO1siWZQMO0b9IKsZlA+jP2mQ0+mkAxs3xhEMuaQGgyAykTWJtAn7GJ8BXlm0CB27piwzecQGMF7NRwipxARS8dRx7dnEAnWU65yy+dQAmDfyt5gp1A66ywnSbVnUDN1uEP1CeeQK8AE4KBep5AkSpE9C7NnkBzVHVm3B+fQAAAAAAAQJ9AAAAAAABAn0AAAAAAAECfQAAAAAAAQJ9AAAAAAABAn0AAAAAAAECfQAAAAAAAQJ9AAAAAAABAn0AAAAAAAECfQAAAAAAAQJ9AAAAAAABAn0AAAAAAAECfQAAAAAAAQJ9AAAAAAABAn0AAAAAAAECfQAAAAAAAQJ9AAAAAAABAn0AAAAAAAECfQAAAAAAAQJ9AAAAAAABAn0AAAAAAAECfQAAAAAAAQJ9AAAAAAABAn0AAAAAAAECfQAAAAAAAQJ9AAAAAAABAn0AAAAAAAECfQAAAAAAAQJ9AAAAAAABAn0AAAAAAAECfQAAAAAAAQJ9AAAAAAABAn0AAAAAAAECfQAAAAAAAQJ9AAAAAAABAn0AAAAAAAECfQAAAAAAAQJ9AAAAAAABAn0AAAAAAAECfQAAAAAAAQJ9AAAAAAABAn0AAAAAAAECfQAAAAAAAQJ9AAAAAAABAn0AAAAAAAECfQAAAAAAAQJ9AAAAAAABAn0AAAAAAAECfQAAAAAAAQJ9AAAAAAABAn0AAAAAAAECfQAAAAAAAQJ9AAAAAAABAn0AAAAAAAECfQAAAAAAAQJ9AAAAAAABAn0AAAAAAAECfQAAAAAAAQJ9A",
          "dtype": "f8"
         },
         "yaxis": "y3"
        }
       ],
       "layout": {
        "barmode": "stack",
        "height": 1000,
        "legend": {
         "traceorder": "normal"
        },
        "showlegend": true,
        "template": {
         "data": {
          "bar": [
           {
            "error_x": {
             "color": "#f2f5fa"
            },
            "error_y": {
             "color": "#f2f5fa"
            },
            "marker": {
             "line": {
              "color": "rgb(17,17,17)",
              "width": 0.5
             },
             "pattern": {
              "fillmode": "overlay",
              "size": 10,
              "solidity": 0.2
             }
            },
            "type": "bar"
           }
          ],
          "barpolar": [
           {
            "marker": {
             "line": {
              "color": "rgb(17,17,17)",
              "width": 0.5
             },
             "pattern": {
              "fillmode": "overlay",
              "size": 10,
              "solidity": 0.2
             }
            },
            "type": "barpolar"
           }
          ],
          "carpet": [
           {
            "aaxis": {
             "endlinecolor": "#A2B1C6",
             "gridcolor": "#506784",
             "linecolor": "#506784",
             "minorgridcolor": "#506784",
             "startlinecolor": "#A2B1C6"
            },
            "baxis": {
             "endlinecolor": "#A2B1C6",
             "gridcolor": "#506784",
             "linecolor": "#506784",
             "minorgridcolor": "#506784",
             "startlinecolor": "#A2B1C6"
            },
            "type": "carpet"
           }
          ],
          "choropleth": [
           {
            "colorbar": {
             "outlinewidth": 0,
             "ticks": ""
            },
            "type": "choropleth"
           }
          ],
          "contour": [
           {
            "colorbar": {
             "outlinewidth": 0,
             "ticks": ""
            },
            "colorscale": [
             [
              0,
              "#0d0887"
             ],
             [
              0.1111111111111111,
              "#46039f"
             ],
             [
              0.2222222222222222,
              "#7201a8"
             ],
             [
              0.3333333333333333,
              "#9c179e"
             ],
             [
              0.4444444444444444,
              "#bd3786"
             ],
             [
              0.5555555555555556,
              "#d8576b"
             ],
             [
              0.6666666666666666,
              "#ed7953"
             ],
             [
              0.7777777777777778,
              "#fb9f3a"
             ],
             [
              0.8888888888888888,
              "#fdca26"
             ],
             [
              1,
              "#f0f921"
             ]
            ],
            "type": "contour"
           }
          ],
          "contourcarpet": [
           {
            "colorbar": {
             "outlinewidth": 0,
             "ticks": ""
            },
            "type": "contourcarpet"
           }
          ],
          "heatmap": [
           {
            "colorbar": {
             "outlinewidth": 0,
             "ticks": ""
            },
            "colorscale": [
             [
              0,
              "#0d0887"
             ],
             [
              0.1111111111111111,
              "#46039f"
             ],
             [
              0.2222222222222222,
              "#7201a8"
             ],
             [
              0.3333333333333333,
              "#9c179e"
             ],
             [
              0.4444444444444444,
              "#bd3786"
             ],
             [
              0.5555555555555556,
              "#d8576b"
             ],
             [
              0.6666666666666666,
              "#ed7953"
             ],
             [
              0.7777777777777778,
              "#fb9f3a"
             ],
             [
              0.8888888888888888,
              "#fdca26"
             ],
             [
              1,
              "#f0f921"
             ]
            ],
            "type": "heatmap"
           }
          ],
          "histogram": [
           {
            "marker": {
             "pattern": {
              "fillmode": "overlay",
              "size": 10,
              "solidity": 0.2
             }
            },
            "type": "histogram"
           }
          ],
          "histogram2d": [
           {
            "colorbar": {
             "outlinewidth": 0,
             "ticks": ""
            },
            "colorscale": [
             [
              0,
              "#0d0887"
             ],
             [
              0.1111111111111111,
              "#46039f"
             ],
             [
              0.2222222222222222,
              "#7201a8"
             ],
             [
              0.3333333333333333,
              "#9c179e"
             ],
             [
              0.4444444444444444,
              "#bd3786"
             ],
             [
              0.5555555555555556,
              "#d8576b"
             ],
             [
              0.6666666666666666,
              "#ed7953"
             ],
             [
              0.7777777777777778,
              "#fb9f3a"
             ],
             [
              0.8888888888888888,
              "#fdca26"
             ],
             [
              1,
              "#f0f921"
             ]
            ],
            "type": "histogram2d"
           }
          ],
          "histogram2dcontour": [
           {
            "colorbar": {
             "outlinewidth": 0,
             "ticks": ""
            },
            "colorscale": [
             [
              0,
              "#0d0887"
             ],
             [
              0.1111111111111111,
              "#46039f"
             ],
             [
              0.2222222222222222,
              "#7201a8"
             ],
             [
              0.3333333333333333,
              "#9c179e"
             ],
             [
              0.4444444444444444,
              "#bd3786"
             ],
             [
              0.5555555555555556,
              "#d8576b"
             ],
             [
              0.6666666666666666,
              "#ed7953"
             ],
             [
              0.7777777777777778,
              "#fb9f3a"
             ],
             [
              0.8888888888888888,
              "#fdca26"
             ],
             [
              1,
              "#f0f921"
             ]
            ],
            "type": "histogram2dcontour"
           }
          ],
          "mesh3d": [
           {
            "colorbar": {
             "outlinewidth": 0,
             "ticks": ""
            },
            "type": "mesh3d"
           }
          ],
          "parcoords": [
           {
            "line": {
             "colorbar": {
              "outlinewidth": 0,
              "ticks": ""
             }
            },
            "type": "parcoords"
           }
          ],
          "pie": [
           {
            "automargin": true,
            "type": "pie"
           }
          ],
          "scatter": [
           {
            "marker": {
             "line": {
              "color": "#283442"
             }
            },
            "type": "scatter"
           }
          ],
          "scatter3d": [
           {
            "line": {
             "colorbar": {
              "outlinewidth": 0,
              "ticks": ""
             }
            },
            "marker": {
             "colorbar": {
              "outlinewidth": 0,
              "ticks": ""
             }
            },
            "type": "scatter3d"
           }
          ],
          "scattercarpet": [
           {
            "marker": {
             "colorbar": {
              "outlinewidth": 0,
              "ticks": ""
             }
            },
            "type": "scattercarpet"
           }
          ],
          "scattergeo": [
           {
            "marker": {
             "colorbar": {
              "outlinewidth": 0,
              "ticks": ""
             }
            },
            "type": "scattergeo"
           }
          ],
          "scattergl": [
           {
            "marker": {
             "line": {
              "color": "#283442"
             }
            },
            "type": "scattergl"
           }
          ],
          "scattermap": [
           {
            "marker": {
             "colorbar": {
              "outlinewidth": 0,
              "ticks": ""
             }
            },
            "type": "scattermap"
           }
          ],
          "scattermapbox": [
           {
            "marker": {
             "colorbar": {
              "outlinewidth": 0,
              "ticks": ""
             }
            },
            "type": "scattermapbox"
           }
          ],
          "scatterpolar": [
           {
            "marker": {
             "colorbar": {
              "outlinewidth": 0,
              "ticks": ""
             }
            },
            "type": "scatterpolar"
           }
          ],
          "scatterpolargl": [
           {
            "marker": {
             "colorbar": {
              "outlinewidth": 0,
              "ticks": ""
             }
            },
            "type": "scatterpolargl"
           }
          ],
          "scatterternary": [
           {
            "marker": {
             "colorbar": {
              "outlinewidth": 0,
              "ticks": ""
             }
            },
            "type": "scatterternary"
           }
          ],
          "surface": [
           {
            "colorbar": {
             "outlinewidth": 0,
             "ticks": ""
            },
            "colorscale": [
             [
              0,
              "#0d0887"
             ],
             [
              0.1111111111111111,
              "#46039f"
             ],
             [
              0.2222222222222222,
              "#7201a8"
             ],
             [
              0.3333333333333333,
              "#9c179e"
             ],
             [
              0.4444444444444444,
              "#bd3786"
             ],
             [
              0.5555555555555556,
              "#d8576b"
             ],
             [
              0.6666666666666666,
              "#ed7953"
             ],
             [
              0.7777777777777778,
              "#fb9f3a"
             ],
             [
              0.8888888888888888,
              "#fdca26"
             ],
             [
              1,
              "#f0f921"
             ]
            ],
            "type": "surface"
           }
          ],
          "table": [
           {
            "cells": {
             "fill": {
              "color": "#506784"
             },
             "line": {
              "color": "rgb(17,17,17)"
             }
            },
            "header": {
             "fill": {
              "color": "#2a3f5f"
             },
             "line": {
              "color": "rgb(17,17,17)"
             }
            },
            "type": "table"
           }
          ]
         },
         "layout": {
          "annotationdefaults": {
           "arrowcolor": "#f2f5fa",
           "arrowhead": 0,
           "arrowwidth": 1
          },
          "autotypenumbers": "strict",
          "coloraxis": {
           "colorbar": {
            "outlinewidth": 0,
            "ticks": ""
           }
          },
          "colorscale": {
           "diverging": [
            [
             0,
             "#8e0152"
            ],
            [
             0.1,
             "#c51b7d"
            ],
            [
             0.2,
             "#de77ae"
            ],
            [
             0.3,
             "#f1b6da"
            ],
            [
             0.4,
             "#fde0ef"
            ],
            [
             0.5,
             "#f7f7f7"
            ],
            [
             0.6,
             "#e6f5d0"
            ],
            [
             0.7,
             "#b8e186"
            ],
            [
             0.8,
             "#7fbc41"
            ],
            [
             0.9,
             "#4d9221"
            ],
            [
             1,
             "#276419"
            ]
           ],
           "sequential": [
            [
             0,
             "#0d0887"
            ],
            [
             0.1111111111111111,
             "#46039f"
            ],
            [
             0.2222222222222222,
             "#7201a8"
            ],
            [
             0.3333333333333333,
             "#9c179e"
            ],
            [
             0.4444444444444444,
             "#bd3786"
            ],
            [
             0.5555555555555556,
             "#d8576b"
            ],
            [
             0.6666666666666666,
             "#ed7953"
            ],
            [
             0.7777777777777778,
             "#fb9f3a"
            ],
            [
             0.8888888888888888,
             "#fdca26"
            ],
            [
             1,
             "#f0f921"
            ]
           ],
           "sequentialminus": [
            [
             0,
             "#0d0887"
            ],
            [
             0.1111111111111111,
             "#46039f"
            ],
            [
             0.2222222222222222,
             "#7201a8"
            ],
            [
             0.3333333333333333,
             "#9c179e"
            ],
            [
             0.4444444444444444,
             "#bd3786"
            ],
            [
             0.5555555555555556,
             "#d8576b"
            ],
            [
             0.6666666666666666,
             "#ed7953"
            ],
            [
             0.7777777777777778,
             "#fb9f3a"
            ],
            [
             0.8888888888888888,
             "#fdca26"
            ],
            [
             1,
             "#f0f921"
            ]
           ]
          },
          "colorway": [
           "#636efa",
           "#EF553B",
           "#00cc96",
           "#ab63fa",
           "#FFA15A",
           "#19d3f3",
           "#FF6692",
           "#B6E880",
           "#FF97FF",
           "#FECB52"
          ],
          "font": {
           "color": "#f2f5fa"
          },
          "geo": {
           "bgcolor": "rgb(17,17,17)",
           "lakecolor": "rgb(17,17,17)",
           "landcolor": "rgb(17,17,17)",
           "showlakes": true,
           "showland": true,
           "subunitcolor": "#506784"
          },
          "hoverlabel": {
           "align": "left"
          },
          "hovermode": "closest",
          "mapbox": {
           "style": "dark"
          },
          "paper_bgcolor": "rgb(17,17,17)",
          "plot_bgcolor": "rgb(17,17,17)",
          "polar": {
           "angularaxis": {
            "gridcolor": "#506784",
            "linecolor": "#506784",
            "ticks": ""
           },
           "bgcolor": "rgb(17,17,17)",
           "radialaxis": {
            "gridcolor": "#506784",
            "linecolor": "#506784",
            "ticks": ""
           }
          },
          "scene": {
           "xaxis": {
            "backgroundcolor": "rgb(17,17,17)",
            "gridcolor": "#506784",
            "gridwidth": 2,
            "linecolor": "#506784",
            "showbackground": true,
            "ticks": "",
            "zerolinecolor": "#C8D4E3"
           },
           "yaxis": {
            "backgroundcolor": "rgb(17,17,17)",
            "gridcolor": "#506784",
            "gridwidth": 2,
            "linecolor": "#506784",
            "showbackground": true,
            "ticks": "",
            "zerolinecolor": "#C8D4E3"
           },
           "zaxis": {
            "backgroundcolor": "rgb(17,17,17)",
            "gridcolor": "#506784",
            "gridwidth": 2,
            "linecolor": "#506784",
            "showbackground": true,
            "ticks": "",
            "zerolinecolor": "#C8D4E3"
           }
          },
          "shapedefaults": {
           "line": {
            "color": "#f2f5fa"
           }
          },
          "sliderdefaults": {
           "bgcolor": "#C8D4E3",
           "bordercolor": "rgb(17,17,17)",
           "borderwidth": 1,
           "tickwidth": 0
          },
          "ternary": {
           "aaxis": {
            "gridcolor": "#506784",
            "linecolor": "#506784",
            "ticks": ""
           },
           "baxis": {
            "gridcolor": "#506784",
            "linecolor": "#506784",
            "ticks": ""
           },
           "bgcolor": "rgb(17,17,17)",
           "caxis": {
            "gridcolor": "#506784",
            "linecolor": "#506784",
            "ticks": ""
           }
          },
          "title": {
           "x": 0.05
          },
          "updatemenudefaults": {
           "bgcolor": "#506784",
           "borderwidth": 0
          },
          "xaxis": {
           "automargin": true,
           "gridcolor": "#283442",
           "linecolor": "#506784",
           "ticks": "",
           "title": {
            "standoff": 15
           },
           "zerolinecolor": "#283442",
           "zerolinewidth": 2
          },
          "yaxis": {
           "automargin": true,
           "gridcolor": "#283442",
           "linecolor": "#506784",
           "ticks": "",
           "title": {
            "standoff": 15
           },
           "zerolinecolor": "#283442",
           "zerolinewidth": 2
          }
         }
        },
        "title": {
         "text": "Power Generation, Power Consumption and Energy Storage Over Time (900.00 min)"
        },
        "xaxis": {
         "anchor": "y",
         "domain": [
          0,
          1
         ],
         "range": [
          0,
          900
         ]
        },
        "xaxis2": {
         "anchor": "y2",
         "domain": [
          0,
          1
         ],
         "range": [
          0,
          900
         ]
        },
        "xaxis3": {
         "anchor": "y3",
         "domain": [
          0,
          1
         ],
         "range": [
          0,
          900
         ],
         "title": {
          "text": "Time (min)"
         }
        },
        "yaxis": {
         "anchor": "x",
         "domain": [
          0.7333333333333333,
          1
         ],
         "rangemode": "tozero",
         "title": {
          "text": "Power Generation (W)"
         }
        },
        "yaxis2": {
         "anchor": "x2",
         "domain": [
          0.36666666666666664,
          0.6333333333333333
         ],
         "rangemode": "tozero",
         "title": {
          "text": "Power Consumption (W)"
         }
        },
        "yaxis3": {
         "anchor": "x3",
         "domain": [
          0,
          0.26666666666666666
         ],
         "rangemode": "tozero",
         "title": {
          "text": "Energy Stored (WH)"
         }
        }
       }
      }
     },
     "metadata": {},
     "output_type": "display_data"
    }
   ],
   "source": [
    "\n",
    "energy_storage_capacity = 2000*u.W*u.h #energy storage limit (battery pack capacity)\n",
    "e_0 = energy_storage_capacity #0*u.W*u.h # initial energy storage level\n",
    "\n",
    "energy_stored = np.zeros(t.shape)*u.W*u.h #create array of zeroes the same shape as t\n",
    "\n",
    "delta_t = t[1]-t[0]\n",
    "\n",
    "for i in range(len(t)):\n",
    "    time = t[i]\n",
    "    if i==0:\n",
    "        energy_stored[i] = e_0\n",
    "    else:\n",
    "        next_energy_storage_level = energy_stored[i-1]+(power_generation_array[i]-power_consumption[i])*delta_t #calculate the next energy storage level\n",
    "        energy_stored[i] = np.clip(next_energy_storage_level, 0, energy_storage_capacity) #clamp energy storage\n",
    "\n",
    "        \n",
    "        #if(next_energy_storage_level > energy_storage_capacity):\n",
    "        #    energy_stored[i] = energy_storage_capacity\n",
    "        #else:\n",
    "        #    energy_stored[i] = next_energy_storage_level\n",
    "\n",
    "from plotly.subplots import make_subplots\n",
    "\n",
    "fig = make_subplots(rows=3, cols=1)\n",
    "\n",
    "print(\"Energy stored after one orbit: {:.2f} WH\".format(energy_stored[-1].to(u.W*u.h).value))\n",
    "print(\"Minimum storage state: {:.2f} WH\".format(energy_stored.min().to(u.W*u.h).value))\n",
    "\n",
    "if energy_stored.min() == 0:\n",
    "    print(\"WARNING: energy production/storage too small \\n\")\n",
    "\n",
    "print(\"Maximum storage state: {:.2f} WH\".format(energy_stored.max().to(u.W*u.h).value))\n",
    "\n",
    "\n",
    "fig.layout.template = 'plotly_dark' #activate the dark theme, comment out for light theme if you want\n",
    "\n",
    "fig.add_trace(go.Scatter(x=t, y=power_generation_array, name=\"Power Generation (W)\", line=dict(color=\"#636EFA\"), showlegend=False), row=1, col=1)\n",
    "fig.add_trace(go.Scatter(x=t, y=power_consumption, name=\"Power Consumption (W)\", line=dict(color=\"#EF553B\"), showlegend=False), row=2, col=1)\n",
    "fig.add_trace(go.Scatter(x=t, y=energy_stored, name=\"Energy Stored (WH)\", line=dict(color=\"#00CC96\"), showlegend=False), row=3, col=1)\n",
    "\n",
    "fig.update_yaxes(title_text=\"Power Generation (W)\", rangemode=\"tozero\", row=1, col=1)\n",
    "fig.update_yaxes(title_text=\"Power Consumption (W)\", rangemode=\"tozero\", row=2, col=1)\n",
    "fig.update_yaxes(title_text=\"Energy Stored (WH)\", rangemode=\"tozero\", row=3, col=1)\n",
    "\n",
    "fig.update_xaxes(range=[0, duration_in_min], row=1, col=1)\n",
    "fig.update_xaxes(range=[0, duration_in_min], row=2, col=1)\n",
    "fig.update_xaxes(title_text=\"Time ({})\".format(t.unit), range=[0, duration_in_min], row=3, col=1)\n",
    "\n",
    "fig.update_layout(title_text=\"Power Generation, Power Consumption and Energy Storage Over Time ({:.2f} min)\".format(duration_in_min),\n",
    "                  height=1000,\n",
    "                  showlegend=True,\n",
    "                  legend=dict(traceorder=\"normal\"),\n",
    "                  barmode=\"stack\")\n",
    "\n",
    "fig.show() #display figure\n",
    "\n",
    "fig.write_image(\"Mission_power_profile.png\") "
   ]
  },
  {
   "cell_type": "markdown",
   "id": "36b0fbf5-5b54-45ec-8d20-e099899bb0cf",
   "metadata": {},
   "source": [
    "### Go Back and Select a Realistic Battery Pack Capacity and Initial Charge Level\n",
    "Also check that you don't run out of power at any point. You may wish to move loads around (in time) if you have high power consumption when generation is not available.\n",
    "\n",
    "Remember, you never what your space system to run out of power."
   ]
  },
  {
   "cell_type": "markdown",
   "id": "e7beeddb-170e-4c75-aa90-9c9103bba077",
   "metadata": {},
   "source": [
    "### Depth of Discharge\n",
    "From the green trace above determine the depth of discharge and record it in the text box below as a percentage."
   ]
  },
  {
   "cell_type": "code",
   "execution_count": 67,
   "id": "5c5976c4",
   "metadata": {},
   "outputs": [
    {
     "name": "stdout",
     "output_type": "stream",
     "text": [
      "Depth of discharge: 80.5%\n"
     ]
    }
   ],
   "source": [
    "depth_d = energy_stored.min()/energy_stored.max()\n",
    "depth_d = 1-depth_d\n",
    "print(\"Depth of discharge: {:.1f}%\".format(depth_d*100))"
   ]
  },
  {
   "cell_type": "markdown",
   "id": "53e462f6-4e97-4a81-be7f-c1cf12a6dfeb",
   "metadata": {},
   "source": [
    "### Chose a Cell Chemistry\n",
    "Write the chosen chemistry in the text box below."
   ]
  },
  {
   "cell_type": "raw",
   "id": "7e36d886-6fef-4b60-a46f-cd904ef34d28",
   "metadata": {
    "vscode": {
     "languageId": "raw"
    }
   },
   "source": [
    "LiFePO_4"
   ]
  },
  {
   "cell_type": "markdown",
   "id": "47aeb364-faed-46d4-8d80-8b2b9fb3d554",
   "metadata": {},
   "source": [
    "### ~Projected Lifetime with Chosen Chemistry and Depth of Discharge~\n",
    "~Update code for your chemistry and mission.~\n",
    "\n",
    "This step doesn't make sense for missions without repetitive charge and discharge cycles (like a flyby or lander), so it probably doesn't apply.\n",
    "\n",
    "Uncomment (Highlight, then press Ctrl + / ) and update the code below if it does apply to your mission."
   ]
  },
  {
   "cell_type": "code",
   "execution_count": 68,
   "id": "fe8bcc00-5e0c-4ea3-933d-1172a023a2be",
   "metadata": {
    "tags": []
   },
   "outputs": [],
   "source": [
    "# # Number of charge-discharge cycles per orbit\n",
    "# charge_cycles_per_orbit = 1\n",
    "# #The cell chemsitry cycle life at the chosen depth of discharge\n",
    "# cell_cycle_life_at_dod = 2000\n",
    "# battery_pack_lifetime = (charge_cycles_per_orbit*cell_cycle_life_at_dod*tau).to(u.yr)\n",
    "# print(\"Battery Pack Lifetime: {:.2}\".format(battery_pack_lifetime))\n",
    "\n",
    "# end_of_life_capacity_ratio = 0.6\n",
    "# eol_remaining_capacity = (energy_storage_capacity*end_of_life_capacity_ratio).to(u.W*u.hr)\n",
    "# print(\"Battery Pack Capacity Remaining at End of Life: {:.0f} WH\".format(eol_remaining_capacity.value))"
   ]
  },
  {
   "cell_type": "markdown",
   "id": "fc8115e7-3fa2-46eb-9974-9b8614b8307f",
   "metadata": {},
   "source": [
    "### Add in a Safety Factor and Print your Panel and Battery Pack Capacity"
   ]
  },
  {
   "cell_type": "code",
   "execution_count": 69,
   "id": "ab777637-0532-48aa-8189-6b07512f4e34",
   "metadata": {},
   "outputs": [],
   "source": [
    "#add your code here"
   ]
  },
  {
   "cell_type": "markdown",
   "id": "e38fba27-4bf7-44b8-8aaf-4fd372e60016",
   "metadata": {},
   "source": [
    "### Battery Mass\n",
    "Look up the energy density of your chosen chemistry, and calculate the approximate mass of your battery pack below. Feel free to rely on easily available sources for this, you don't necessarily need to use a high quality source for this step.\n",
    "\n",
    "If you would like to look at some space battery cells, you can if you wish."
   ]
  },
  {
   "cell_type": "code",
   "execution_count": 70,
   "id": "47678376-7302-4086-8756-09bd6848a485",
   "metadata": {},
   "outputs": [
    {
     "name": "stdout",
     "output_type": "stream",
     "text": [
      "Battery Pack Mass: 13.3 kg\n",
      "Battery Pack Volume: 6.2 L\n"
     ]
    }
   ],
   "source": [
    "LiFePO_4_Specific_energy = 150 *u.W*u.h/u.kg #(90–160 Wh/kg)\n",
    "LiFePO_4_Energy_density = 325 *u.W*u.h/u.L\n",
    "\n",
    "battery_mass = energy_storage_capacity / LiFePO_4_Specific_energy #mass of the battery pack\n",
    "\n",
    "print(\"Battery Pack Mass: {:.1f} kg\".format(battery_mass.to(u.kg).value))\n",
    "\n",
    "battery_volume = energy_storage_capacity / LiFePO_4_Energy_density #volume of the battery pack\n",
    "print(\"Battery Pack Volume: {:.1f} L\".format(battery_volume.to(u.L).value))"
   ]
  },
  {
   "cell_type": "markdown",
   "id": "dfaf2895-2e50-44d2-8581-270c7b1f5ddb",
   "metadata": {},
   "source": [
    "## Total mass\n",
    "Estimate the mass of your solar arrays. Account for the cells, the structure, and any interface layers or wiring if required.\n",
    "\n",
    "Update your system's mass budget."
   ]
  },
  {
   "cell_type": "code",
   "execution_count": 71,
   "id": "65119ce7",
   "metadata": {},
   "outputs": [
    {
     "name": "stdout",
     "output_type": "stream",
     "text": [
      "Solar Panel Mass: 1.5 kg\n",
      "Battery Pack mass: 13.3 kg\n",
      "Peak Power: 805.0 W\n",
      "Power System Mass: 15.8 kg\n",
      "\n"
     ]
    }
   ],
   "source": [
    "solar_cell_mass = 86 *u.mg/u.cm**2 #mass of the solar panel per unit area\n",
    "solar_panel_mass = solar_cell_mass * cell_area #mass of the solar panel\n",
    "print(\"Solar Panel Mass: {:.1f} kg\".format(solar_panel_mass.to(u.kg).value))\n",
    "\n",
    "print(\"Battery Pack mass: {:.1f} kg\".format(battery_mass.to(u.kg).value))\n",
    "\n",
    "peak_power = power_consumption.max() #maximum power consumption capacity\n",
    "print(\"Peak Power: {:.1f} W\".format(peak_power.to(u.W).value))\n",
    "\n",
    "power_electronics_mass = 1 * u.kg #mass of the power electronics\n",
    "\n",
    "power_mass = (battery_mass + solar_panel_mass + power_electronics_mass) #mass of the power system per watt of power generation\n",
    "print(\"Power System Mass: {:.1f} kg\\n\".format(power_mass.to(u.kg).value))"
   ]
  },
  {
   "cell_type": "markdown",
   "id": "0167bc4f",
   "metadata": {},
   "source": [
    "### Saving to excel file"
   ]
  },
  {
   "cell_type": "code",
   "execution_count": 72,
   "id": "045c7e16",
   "metadata": {},
   "outputs": [],
   "source": [
    "wb_saving = load_workbook(filename = 'Spacecraft subsystems.xlsx') #create a new workbook\n",
    "ws_saving = wb_saving.active #create a new worksheet in the workbook\n",
    "\n",
    "ws_saving['A1'] = \"Subsystem\" #set the column titles\n",
    "ws_saving['B1'].value = \"Mass (Kg)\" #set the column titles\n",
    "ws_saving['C1'].value = \"Volume (L)\" #set the column titles\n",
    "ws_saving['D1'].value = \"Notes\" #set the mass of the solar panels\n",
    "\n",
    "ws_saving['A2'].value = \"Power subsystem\"\n",
    "ws_saving['B2'].value = power_mass.value #set the mass of the power subsystem\n",
    "ws_saving['C2'].value = battery_volume.value #set the volume of the power subsystem\n",
    "ws_saving['D2'].value = \"Solar panel volume not included\" #set the mass of the solar panels\n",
    "\n",
    "wb_saving.save('Spacecraft subsystems.xlsx') #save the workbook to a file\n",
    "wb_saving.close() #close the workbook"
   ]
  },
  {
   "cell_type": "markdown",
   "id": "ee0de0fe-989b-449c-abd3-8f5a6e0d5265",
   "metadata": {},
   "source": [
    "# References\n",
    "\n",
    "[Brown, Charles D. 2002. *Elements of Spacecraft Design*. Reston, Virginia, USA: American Institute of Aeronautics and Astronautics.](https://ebookcentral.proquest.com/lib/curtin/detail.action?pq-origsite=primo&docID=3111499)\n",
    "\n",
    "[Fortescue, Peter, Graham Swinerd, and John Stark, eds. 2011. *Spacecraft Systems Engineering*. Chichester, UK: John Wiley & Sons.](https://onlinelibrary.wiley.com/doi/pdf/10.1002/9781119971009)"
   ]
  }
 ],
 "metadata": {
  "autoplay": {
   "autoRun": true,
   "hideCodeCells": false
  },
  "kernelspec": {
   "display_name": "Python 3",
   "language": "python",
   "name": "python3"
  },
  "language_info": {
   "codemirror_mode": {
    "name": "ipython",
    "version": 3
   },
   "file_extension": ".py",
   "mimetype": "text/x-python",
   "name": "python",
   "nbconvert_exporter": "python",
   "pygments_lexer": "ipython3",
   "version": "3.10.2"
  }
 },
 "nbformat": 4,
 "nbformat_minor": 5
}
